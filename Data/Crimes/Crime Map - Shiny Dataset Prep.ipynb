{
 "cells": [
  {
   "cell_type": "markdown",
   "metadata": {},
   "source": [
    "# Prepare yearly crimes count datasets by location (lat/lon) for each zip code"
   ]
  },
  {
   "cell_type": "markdown",
   "metadata": {},
   "source": [
    "Note: crimes in 2016 is not a full year of data"
   ]
  },
  {
   "cell_type": "code",
   "execution_count": 1,
   "metadata": {
    "collapsed": true
   },
   "outputs": [],
   "source": [
    "%matplotlib inline\n",
    "import matplotlib.pyplot as plt\n",
    "import numpy as np\n",
    "import pandas as pd\n",
    "import seaborn as sns"
   ]
  },
  {
   "cell_type": "code",
   "execution_count": 2,
   "metadata": {
    "collapsed": true
   },
   "outputs": [],
   "source": [
    "crimes = pd.read_csv('nyc_crime_violent_with_zip.csv')"
   ]
  },
  {
   "cell_type": "code",
   "execution_count": 3,
   "metadata": {},
   "outputs": [
    {
     "data": {
      "text/html": [
       "<div>\n",
       "<table border=\"1\" class=\"dataframe\">\n",
       "  <thead>\n",
       "    <tr style=\"text-align: right;\">\n",
       "      <th></th>\n",
       "      <th>CMPLNT_NUM</th>\n",
       "      <th>CMPLNT_FR_DT</th>\n",
       "      <th>CMPLNT_TO_DT</th>\n",
       "      <th>RPT_DT</th>\n",
       "      <th>KY_CD</th>\n",
       "      <th>OFNS_DESC</th>\n",
       "      <th>CRM_ATPT_CPTD_CD</th>\n",
       "      <th>BORO_NM</th>\n",
       "      <th>LAT_TRIM</th>\n",
       "      <th>LON_TRIM</th>\n",
       "      <th>LATITUDE</th>\n",
       "      <th>LONGITUDE</th>\n",
       "      <th>Zip Code</th>\n",
       "    </tr>\n",
       "  </thead>\n",
       "  <tbody>\n",
       "    <tr>\n",
       "      <th>0</th>\n",
       "      <td>112096415</td>\n",
       "      <td>2015-10-16</td>\n",
       "      <td>2015-10-16</td>\n",
       "      <td>2015-10-16</td>\n",
       "      <td>125</td>\n",
       "      <td>NYS LAWS-UNCLASSIFIED FELONY</td>\n",
       "      <td>COMPLETED</td>\n",
       "      <td>STATEN ISLAND</td>\n",
       "      <td>40.5709</td>\n",
       "      <td>-74.1698</td>\n",
       "      <td>40.570888</td>\n",
       "      <td>-74.169836</td>\n",
       "      <td>10314</td>\n",
       "    </tr>\n",
       "    <tr>\n",
       "      <th>1</th>\n",
       "      <td>534515735</td>\n",
       "      <td>2013-04-12</td>\n",
       "      <td>2013-04-12</td>\n",
       "      <td>2013-04-12</td>\n",
       "      <td>344</td>\n",
       "      <td>ASSAULT 3 &amp; RELATED OFFENSES</td>\n",
       "      <td>COMPLETED</td>\n",
       "      <td>STATEN ISLAND</td>\n",
       "      <td>40.5709</td>\n",
       "      <td>-74.1698</td>\n",
       "      <td>40.570888</td>\n",
       "      <td>-74.169836</td>\n",
       "      <td>10314</td>\n",
       "    </tr>\n",
       "    <tr>\n",
       "      <th>2</th>\n",
       "      <td>450719401</td>\n",
       "      <td>2013-11-10</td>\n",
       "      <td>2013-11-10</td>\n",
       "      <td>2013-11-10</td>\n",
       "      <td>105</td>\n",
       "      <td>ROBBERY</td>\n",
       "      <td>COMPLETED</td>\n",
       "      <td>STATEN ISLAND</td>\n",
       "      <td>40.5709</td>\n",
       "      <td>-74.1698</td>\n",
       "      <td>40.570888</td>\n",
       "      <td>-74.169836</td>\n",
       "      <td>10314</td>\n",
       "    </tr>\n",
       "    <tr>\n",
       "      <th>3</th>\n",
       "      <td>885775104</td>\n",
       "      <td>2014-06-28</td>\n",
       "      <td>2014-06-28</td>\n",
       "      <td>2014-06-29</td>\n",
       "      <td>105</td>\n",
       "      <td>ROBBERY</td>\n",
       "      <td>COMPLETED</td>\n",
       "      <td>STATEN ISLAND</td>\n",
       "      <td>40.5709</td>\n",
       "      <td>-74.1698</td>\n",
       "      <td>40.570888</td>\n",
       "      <td>-74.169836</td>\n",
       "      <td>10314</td>\n",
       "    </tr>\n",
       "    <tr>\n",
       "      <th>4</th>\n",
       "      <td>919218176</td>\n",
       "      <td>2013-03-28</td>\n",
       "      <td>2013-03-29</td>\n",
       "      <td>2013-03-29</td>\n",
       "      <td>109</td>\n",
       "      <td>GRAND LARCENY</td>\n",
       "      <td>COMPLETED</td>\n",
       "      <td>STATEN ISLAND</td>\n",
       "      <td>40.5709</td>\n",
       "      <td>-74.1698</td>\n",
       "      <td>40.570888</td>\n",
       "      <td>-74.169836</td>\n",
       "      <td>10314</td>\n",
       "    </tr>\n",
       "  </tbody>\n",
       "</table>\n",
       "</div>"
      ],
      "text/plain": [
       "   CMPLNT_NUM CMPLNT_FR_DT CMPLNT_TO_DT      RPT_DT  KY_CD  \\\n",
       "0   112096415   2015-10-16   2015-10-16  2015-10-16    125   \n",
       "1   534515735   2013-04-12   2013-04-12  2013-04-12    344   \n",
       "2   450719401   2013-11-10   2013-11-10  2013-11-10    105   \n",
       "3   885775104   2014-06-28   2014-06-28  2014-06-29    105   \n",
       "4   919218176   2013-03-28   2013-03-29  2013-03-29    109   \n",
       "\n",
       "                      OFNS_DESC CRM_ATPT_CPTD_CD        BORO_NM  LAT_TRIM  \\\n",
       "0  NYS LAWS-UNCLASSIFIED FELONY        COMPLETED  STATEN ISLAND   40.5709   \n",
       "1  ASSAULT 3 & RELATED OFFENSES        COMPLETED  STATEN ISLAND   40.5709   \n",
       "2                       ROBBERY        COMPLETED  STATEN ISLAND   40.5709   \n",
       "3                       ROBBERY        COMPLETED  STATEN ISLAND   40.5709   \n",
       "4                 GRAND LARCENY        COMPLETED  STATEN ISLAND   40.5709   \n",
       "\n",
       "   LON_TRIM   LATITUDE  LONGITUDE  Zip Code  \n",
       "0  -74.1698  40.570888 -74.169836     10314  \n",
       "1  -74.1698  40.570888 -74.169836     10314  \n",
       "2  -74.1698  40.570888 -74.169836     10314  \n",
       "3  -74.1698  40.570888 -74.169836     10314  \n",
       "4  -74.1698  40.570888 -74.169836     10314  "
      ]
     },
     "execution_count": 3,
     "metadata": {},
     "output_type": "execute_result"
    }
   ],
   "source": [
    "crimes.head()"
   ]
  },
  {
   "cell_type": "code",
   "execution_count": 4,
   "metadata": {},
   "outputs": [
    {
     "data": {
      "text/plain": [
       "Index(['CMPLNT_NUM', 'CMPLNT_FR_DT', 'CMPLNT_TO_DT', 'RPT_DT', 'KY_CD',\n",
       "       'OFNS_DESC', 'CRM_ATPT_CPTD_CD', 'BORO_NM', 'LAT_TRIM', 'LON_TRIM',\n",
       "       'LATITUDE', 'LONGITUDE', 'Zip Code'],\n",
       "      dtype='object')"
      ]
     },
     "execution_count": 4,
     "metadata": {},
     "output_type": "execute_result"
    }
   ],
   "source": [
    "crimes.columns"
   ]
  },
  {
   "cell_type": "markdown",
   "metadata": {},
   "source": [
    "## Clean up and reduce size of dataset"
   ]
  },
  {
   "cell_type": "code",
   "execution_count": 5,
   "metadata": {},
   "outputs": [
    {
     "data": {
      "text/plain": [
       "Index(['CMPLNT_FR_DT', 'LAT_TRIM', 'LON_TRIM', 'Zip Code'], dtype='object')"
      ]
     },
     "execution_count": 5,
     "metadata": {},
     "output_type": "execute_result"
    }
   ],
   "source": [
    "remove_list = ['CMPLNT_NUM', 'CMPLNT_TO_DT', 'RPT_DT', 'KY_CD',\n",
    "       'OFNS_DESC', 'CRM_ATPT_CPTD_CD', 'BORO_NM',\n",
    "       'LATITUDE', 'LONGITUDE']\n",
    "\n",
    "for remove in remove_list:\n",
    "    crimes.drop(remove, axis=1, inplace=True)\n",
    "    \n",
    "crimes.columns"
   ]
  },
  {
   "cell_type": "code",
   "execution_count": 6,
   "metadata": {
    "collapsed": true
   },
   "outputs": [],
   "source": [
    "crimes = crimes[crimes.CMPLNT_FR_DT.notnull()]"
   ]
  },
  {
   "cell_type": "code",
   "execution_count": 7,
   "metadata": {
    "collapsed": true
   },
   "outputs": [],
   "source": [
    "# Note: pd.to_datetime(crimes['CMPLNT_FR_DT']) does not work since some weird date like year before 1100!\n",
    "\n",
    "first4 = lambda x: int(str(x)[:4])\n",
    "crimes['YEAR'] = crimes.CMPLNT_FR_DT.map(first4)"
   ]
  },
  {
   "cell_type": "code",
   "execution_count": 8,
   "metadata": {
    "collapsed": true
   },
   "outputs": [],
   "source": [
    "crimes = crimes[crimes.YEAR >= 2006]"
   ]
  },
  {
   "cell_type": "code",
   "execution_count": 9,
   "metadata": {},
   "outputs": [
    {
     "data": {
      "text/plain": [
       "YEAR\n",
       "2006    220490\n",
       "2007    218119\n",
       "2008    215580\n",
       "2009    206346\n",
       "2010    207505\n",
       "2011    206081\n",
       "2012    208842\n",
       "2013    201742\n",
       "2014    196272\n",
       "2015    191346\n",
       "2016    184287\n",
       "Name: YEAR, dtype: int64"
      ]
     },
     "execution_count": 9,
     "metadata": {},
     "output_type": "execute_result"
    }
   ],
   "source": [
    "crimes.groupby('YEAR').YEAR.count()"
   ]
  },
  {
   "cell_type": "code",
   "execution_count": 10,
   "metadata": {},
   "outputs": [
    {
     "data": {
      "text/plain": [
       "Index(['LAT_TRIM', 'LON_TRIM', 'Zip Code', 'YEAR'], dtype='object')"
      ]
     },
     "execution_count": 10,
     "metadata": {},
     "output_type": "execute_result"
    }
   ],
   "source": [
    "crimes.drop('CMPLNT_FR_DT', axis=1, inplace=True)\n",
    "crimes.columns"
   ]
  },
  {
   "cell_type": "markdown",
   "metadata": {},
   "source": [
    "## Test grouping by lat/lon and zip codes for each year"
   ]
  },
  {
   "cell_type": "code",
   "execution_count": 29,
   "metadata": {},
   "outputs": [
    {
     "data": {
      "text/html": [
       "<div>\n",
       "<table border=\"1\" class=\"dataframe\">\n",
       "  <thead>\n",
       "    <tr style=\"text-align: right;\">\n",
       "      <th></th>\n",
       "      <th>LAT_TRIM</th>\n",
       "      <th>LON_TRIM</th>\n",
       "      <th>Zip Code</th>\n",
       "      <th>YEAR</th>\n",
       "    </tr>\n",
       "  </thead>\n",
       "  <tbody>\n",
       "    <tr>\n",
       "      <th>1505610</th>\n",
       "      <td>40.6926</td>\n",
       "      <td>-73.9472</td>\n",
       "      <td>11206</td>\n",
       "      <td>2010</td>\n",
       "    </tr>\n",
       "    <tr>\n",
       "      <th>1505616</th>\n",
       "      <td>40.6926</td>\n",
       "      <td>-73.9472</td>\n",
       "      <td>11206</td>\n",
       "      <td>2010</td>\n",
       "    </tr>\n",
       "    <tr>\n",
       "      <th>1505618</th>\n",
       "      <td>40.6926</td>\n",
       "      <td>-73.9472</td>\n",
       "      <td>11206</td>\n",
       "      <td>2010</td>\n",
       "    </tr>\n",
       "    <tr>\n",
       "      <th>1505624</th>\n",
       "      <td>40.6926</td>\n",
       "      <td>-73.9472</td>\n",
       "      <td>11206</td>\n",
       "      <td>2010</td>\n",
       "    </tr>\n",
       "    <tr>\n",
       "      <th>1505634</th>\n",
       "      <td>40.6926</td>\n",
       "      <td>-73.9472</td>\n",
       "      <td>11206</td>\n",
       "      <td>2010</td>\n",
       "    </tr>\n",
       "    <tr>\n",
       "      <th>1505640</th>\n",
       "      <td>40.6926</td>\n",
       "      <td>-73.9472</td>\n",
       "      <td>11206</td>\n",
       "      <td>2010</td>\n",
       "    </tr>\n",
       "    <tr>\n",
       "      <th>1505644</th>\n",
       "      <td>40.6926</td>\n",
       "      <td>-73.9472</td>\n",
       "      <td>11206</td>\n",
       "      <td>2010</td>\n",
       "    </tr>\n",
       "    <tr>\n",
       "      <th>1505652</th>\n",
       "      <td>40.6926</td>\n",
       "      <td>-73.9472</td>\n",
       "      <td>11206</td>\n",
       "      <td>2010</td>\n",
       "    </tr>\n",
       "    <tr>\n",
       "      <th>1505654</th>\n",
       "      <td>40.6926</td>\n",
       "      <td>-73.9472</td>\n",
       "      <td>11206</td>\n",
       "      <td>2010</td>\n",
       "    </tr>\n",
       "    <tr>\n",
       "      <th>1505656</th>\n",
       "      <td>40.6926</td>\n",
       "      <td>-73.9472</td>\n",
       "      <td>11206</td>\n",
       "      <td>2010</td>\n",
       "    </tr>\n",
       "    <tr>\n",
       "      <th>1505663</th>\n",
       "      <td>40.6926</td>\n",
       "      <td>-73.9472</td>\n",
       "      <td>11206</td>\n",
       "      <td>2010</td>\n",
       "    </tr>\n",
       "    <tr>\n",
       "      <th>1505684</th>\n",
       "      <td>40.6926</td>\n",
       "      <td>-73.9472</td>\n",
       "      <td>11206</td>\n",
       "      <td>2010</td>\n",
       "    </tr>\n",
       "  </tbody>\n",
       "</table>\n",
       "</div>"
      ],
      "text/plain": [
       "         LAT_TRIM  LON_TRIM  Zip Code  YEAR\n",
       "1505610   40.6926  -73.9472     11206  2010\n",
       "1505616   40.6926  -73.9472     11206  2010\n",
       "1505618   40.6926  -73.9472     11206  2010\n",
       "1505624   40.6926  -73.9472     11206  2010\n",
       "1505634   40.6926  -73.9472     11206  2010\n",
       "1505640   40.6926  -73.9472     11206  2010\n",
       "1505644   40.6926  -73.9472     11206  2010\n",
       "1505652   40.6926  -73.9472     11206  2010\n",
       "1505654   40.6926  -73.9472     11206  2010\n",
       "1505656   40.6926  -73.9472     11206  2010\n",
       "1505663   40.6926  -73.9472     11206  2010\n",
       "1505684   40.6926  -73.9472     11206  2010"
      ]
     },
     "execution_count": 29,
     "metadata": {},
     "output_type": "execute_result"
    }
   ],
   "source": [
    "crimes[(crimes['Zip Code']== 11206) & (crimes['LAT_TRIM'] == 40.6926) & (crimes['LON_TRIM'] == -73.9472) & \n",
    "       (crimes['YEAR'] == 2010)]"
   ]
  },
  {
   "cell_type": "code",
   "execution_count": 31,
   "metadata": {},
   "outputs": [
    {
     "data": {
      "text/html": [
       "<div>\n",
       "<table border=\"1\" class=\"dataframe\">\n",
       "  <thead>\n",
       "    <tr style=\"text-align: right;\">\n",
       "      <th></th>\n",
       "      <th>LAT_TRIM</th>\n",
       "      <th>LON_TRIM</th>\n",
       "      <th>Zip Code</th>\n",
       "      <th>crime_count</th>\n",
       "    </tr>\n",
       "  </thead>\n",
       "  <tbody>\n",
       "    <tr>\n",
       "      <th>22001</th>\n",
       "      <td>40.6921</td>\n",
       "      <td>-73.9486</td>\n",
       "      <td>11206</td>\n",
       "      <td>2</td>\n",
       "    </tr>\n",
       "    <tr>\n",
       "      <th>22065</th>\n",
       "      <td>40.6923</td>\n",
       "      <td>-73.9503</td>\n",
       "      <td>11206</td>\n",
       "      <td>9</td>\n",
       "    </tr>\n",
       "    <tr>\n",
       "      <th>22095</th>\n",
       "      <td>40.6924</td>\n",
       "      <td>-73.9428</td>\n",
       "      <td>11206</td>\n",
       "      <td>2</td>\n",
       "    </tr>\n",
       "    <tr>\n",
       "      <th>22146</th>\n",
       "      <td>40.6926</td>\n",
       "      <td>-73.9472</td>\n",
       "      <td>11206</td>\n",
       "      <td>12</td>\n",
       "    </tr>\n",
       "    <tr>\n",
       "      <th>22174</th>\n",
       "      <td>40.6927</td>\n",
       "      <td>-73.9400</td>\n",
       "      <td>11206</td>\n",
       "      <td>11</td>\n",
       "    </tr>\n",
       "  </tbody>\n",
       "</table>\n",
       "</div>"
      ],
      "text/plain": [
       "       LAT_TRIM  LON_TRIM  Zip Code  crime_count\n",
       "22001   40.6921  -73.9486     11206            2\n",
       "22065   40.6923  -73.9503     11206            9\n",
       "22095   40.6924  -73.9428     11206            2\n",
       "22146   40.6926  -73.9472     11206           12\n",
       "22174   40.6927  -73.9400     11206           11"
      ]
     },
     "execution_count": 31,
     "metadata": {},
     "output_type": "execute_result"
    }
   ],
   "source": [
    "test = crimes[crimes.YEAR == 2010].groupby(['LAT_TRIM', 'LON_TRIM', 'Zip Code'])['YEAR'].count().reset_index()\n",
    "test.rename(columns={'YEAR': 'crime_count'}, inplace=True)\n",
    "test[test['Zip Code'] == 11206].head()"
   ]
  },
  {
   "cell_type": "markdown",
   "metadata": {},
   "source": [
    "## Create datasets by year and save in csv files for R Shiny"
   ]
  },
  {
   "cell_type": "code",
   "execution_count": 20,
   "metadata": {
    "collapsed": true
   },
   "outputs": [],
   "source": [
    "years = []\n",
    "\n",
    "for y in range(2006, 2017, 1):\n",
    "    years.append(y)\n"
   ]
  },
  {
   "cell_type": "code",
   "execution_count": 33,
   "metadata": {
    "collapsed": true
   },
   "outputs": [],
   "source": [
    "for y in years:\n",
    "    crimes_y = crimes[crimes.YEAR == y].groupby(['LAT_TRIM', 'LON_TRIM', 'Zip Code'])['YEAR'].count().reset_index()\n",
    "    crimes_y.rename(columns={'YEAR': 'crime_count'}, inplace=True)\n",
    "    filename = 'crimes_'+ str(y) +\".csv\"\n",
    "    crimes_y.to_csv(filename, index=False)"
   ]
  },
  {
   "cell_type": "code",
   "execution_count": null,
   "metadata": {
    "collapsed": true
   },
   "outputs": [],
   "source": []
  },
  {
   "cell_type": "markdown",
   "metadata": {},
   "source": [
    "## Max lat and lon for each zip codes (2006 and 2015 only)"
   ]
  },
  {
   "cell_type": "code",
   "execution_count": 12,
   "metadata": {},
   "outputs": [
    {
     "data": {
      "text/html": [
       "<div>\n",
       "<table border=\"1\" class=\"dataframe\">\n",
       "  <thead>\n",
       "    <tr style=\"text-align: right;\">\n",
       "      <th></th>\n",
       "      <th>LAT_TRIM</th>\n",
       "      <th>LON_TRIM</th>\n",
       "      <th>Zip Code</th>\n",
       "      <th>YEAR</th>\n",
       "    </tr>\n",
       "  </thead>\n",
       "  <tbody>\n",
       "    <tr>\n",
       "      <th>0</th>\n",
       "      <td>40.4988</td>\n",
       "      <td>-74.2405</td>\n",
       "      <td>10307</td>\n",
       "      <td>1</td>\n",
       "    </tr>\n",
       "    <tr>\n",
       "      <th>1</th>\n",
       "      <td>40.4989</td>\n",
       "      <td>-74.2415</td>\n",
       "      <td>10307</td>\n",
       "      <td>1</td>\n",
       "    </tr>\n",
       "    <tr>\n",
       "      <th>2</th>\n",
       "      <td>40.4990</td>\n",
       "      <td>-74.2444</td>\n",
       "      <td>10307</td>\n",
       "      <td>2</td>\n",
       "    </tr>\n",
       "    <tr>\n",
       "      <th>3</th>\n",
       "      <td>40.4991</td>\n",
       "      <td>-74.2435</td>\n",
       "      <td>10307</td>\n",
       "      <td>1</td>\n",
       "    </tr>\n",
       "    <tr>\n",
       "      <th>4</th>\n",
       "      <td>40.4992</td>\n",
       "      <td>-74.2431</td>\n",
       "      <td>10307</td>\n",
       "      <td>1</td>\n",
       "    </tr>\n",
       "  </tbody>\n",
       "</table>\n",
       "</div>"
      ],
      "text/plain": [
       "   LAT_TRIM  LON_TRIM  Zip Code  YEAR\n",
       "0   40.4988  -74.2405     10307     1\n",
       "1   40.4989  -74.2415     10307     1\n",
       "2   40.4990  -74.2444     10307     2\n",
       "3   40.4991  -74.2435     10307     1\n",
       "4   40.4992  -74.2431     10307     1"
      ]
     },
     "execution_count": 12,
     "metadata": {},
     "output_type": "execute_result"
    }
   ],
   "source": [
    "crimesubset = crimes[(crimes['YEAR'] == 2006) | (crimes['YEAR'] == 2015)]\n",
    "test = crimesubset.groupby(['LAT_TRIM', 'LON_TRIM', 'Zip Code'])['YEAR'].count().reset_index()\n",
    "test.head()"
   ]
  },
  {
   "cell_type": "code",
   "execution_count": 13,
   "metadata": {},
   "outputs": [
    {
     "data": {
      "text/html": [
       "<div>\n",
       "<table border=\"1\" class=\"dataframe\">\n",
       "  <thead>\n",
       "    <tr style=\"text-align: right;\">\n",
       "      <th></th>\n",
       "      <th>Zip Code</th>\n",
       "      <th>LAT_TRIM</th>\n",
       "    </tr>\n",
       "  </thead>\n",
       "  <tbody>\n",
       "    <tr>\n",
       "      <th>0</th>\n",
       "      <td>7030</td>\n",
       "      <td>40.7173</td>\n",
       "    </tr>\n",
       "    <tr>\n",
       "      <th>1</th>\n",
       "      <td>7306</td>\n",
       "      <td>40.6899</td>\n",
       "    </tr>\n",
       "    <tr>\n",
       "      <th>2</th>\n",
       "      <td>7307</td>\n",
       "      <td>40.7095</td>\n",
       "    </tr>\n",
       "    <tr>\n",
       "      <th>3</th>\n",
       "      <td>7648</td>\n",
       "      <td>40.9114</td>\n",
       "    </tr>\n",
       "    <tr>\n",
       "      <th>4</th>\n",
       "      <td>10001</td>\n",
       "      <td>40.8245</td>\n",
       "    </tr>\n",
       "  </tbody>\n",
       "</table>\n",
       "</div>"
      ],
      "text/plain": [
       "   Zip Code  LAT_TRIM\n",
       "0      7030   40.7173\n",
       "1      7306   40.6899\n",
       "2      7307   40.7095\n",
       "3      7648   40.9114\n",
       "4     10001   40.8245"
      ]
     },
     "execution_count": 13,
     "metadata": {},
     "output_type": "execute_result"
    }
   ],
   "source": [
    "maxlat = test.groupby('Zip Code').LAT_TRIM.max().reset_index()\n",
    "maxlat.head()"
   ]
  },
  {
   "cell_type": "code",
   "execution_count": 14,
   "metadata": {},
   "outputs": [
    {
     "data": {
      "text/html": [
       "<div>\n",
       "<table border=\"1\" class=\"dataframe\">\n",
       "  <thead>\n",
       "    <tr style=\"text-align: right;\">\n",
       "      <th></th>\n",
       "      <th>Zip Code</th>\n",
       "      <th>LON_TRIM</th>\n",
       "    </tr>\n",
       "  </thead>\n",
       "  <tbody>\n",
       "    <tr>\n",
       "      <th>0</th>\n",
       "      <td>7030</td>\n",
       "      <td>-73.9657</td>\n",
       "    </tr>\n",
       "    <tr>\n",
       "      <th>1</th>\n",
       "      <td>7306</td>\n",
       "      <td>-73.9804</td>\n",
       "    </tr>\n",
       "    <tr>\n",
       "      <th>2</th>\n",
       "      <td>7307</td>\n",
       "      <td>-73.9848</td>\n",
       "    </tr>\n",
       "    <tr>\n",
       "      <th>3</th>\n",
       "      <td>7648</td>\n",
       "      <td>-73.8966</td>\n",
       "    </tr>\n",
       "    <tr>\n",
       "      <th>4</th>\n",
       "      <td>10001</td>\n",
       "      <td>-73.9369</td>\n",
       "    </tr>\n",
       "  </tbody>\n",
       "</table>\n",
       "</div>"
      ],
      "text/plain": [
       "   Zip Code  LON_TRIM\n",
       "0      7030  -73.9657\n",
       "1      7306  -73.9804\n",
       "2      7307  -73.9848\n",
       "3      7648  -73.8966\n",
       "4     10001  -73.9369"
      ]
     },
     "execution_count": 14,
     "metadata": {},
     "output_type": "execute_result"
    }
   ],
   "source": [
    "maxlon = test.groupby('Zip Code').LON_TRIM.max().reset_index()\n",
    "maxlon.head()"
   ]
  },
  {
   "cell_type": "code",
   "execution_count": 15,
   "metadata": {},
   "outputs": [
    {
     "data": {
      "text/html": [
       "<div>\n",
       "<table border=\"1\" class=\"dataframe\">\n",
       "  <thead>\n",
       "    <tr style=\"text-align: right;\">\n",
       "      <th></th>\n",
       "      <th>Zip Code</th>\n",
       "      <th>LAT_TRIM</th>\n",
       "      <th>LON_TRIM</th>\n",
       "    </tr>\n",
       "  </thead>\n",
       "  <tbody>\n",
       "    <tr>\n",
       "      <th>0</th>\n",
       "      <td>7030</td>\n",
       "      <td>40.7173</td>\n",
       "      <td>-73.9657</td>\n",
       "    </tr>\n",
       "    <tr>\n",
       "      <th>1</th>\n",
       "      <td>7306</td>\n",
       "      <td>40.6899</td>\n",
       "      <td>-73.9804</td>\n",
       "    </tr>\n",
       "    <tr>\n",
       "      <th>2</th>\n",
       "      <td>7307</td>\n",
       "      <td>40.7095</td>\n",
       "      <td>-73.9848</td>\n",
       "    </tr>\n",
       "    <tr>\n",
       "      <th>3</th>\n",
       "      <td>7648</td>\n",
       "      <td>40.9114</td>\n",
       "      <td>-73.8966</td>\n",
       "    </tr>\n",
       "    <tr>\n",
       "      <th>4</th>\n",
       "      <td>10001</td>\n",
       "      <td>40.8245</td>\n",
       "      <td>-73.9369</td>\n",
       "    </tr>\n",
       "  </tbody>\n",
       "</table>\n",
       "</div>"
      ],
      "text/plain": [
       "   Zip Code  LAT_TRIM  LON_TRIM\n",
       "0      7030   40.7173  -73.9657\n",
       "1      7306   40.6899  -73.9804\n",
       "2      7307   40.7095  -73.9848\n",
       "3      7648   40.9114  -73.8966\n",
       "4     10001   40.8245  -73.9369"
      ]
     },
     "execution_count": 15,
     "metadata": {},
     "output_type": "execute_result"
    }
   ],
   "source": [
    "maxlatlon = pd.merge(maxlat, maxlon, on=\"Zip Code\")\n",
    "maxlatlon.head()"
   ]
  },
  {
   "cell_type": "code",
   "execution_count": 16,
   "metadata": {},
   "outputs": [
    {
     "data": {
      "text/html": [
       "<div>\n",
       "<table border=\"1\" class=\"dataframe\">\n",
       "  <thead>\n",
       "    <tr style=\"text-align: right;\">\n",
       "      <th></th>\n",
       "      <th>Zip Code</th>\n",
       "      <th>LAT_TRIM</th>\n",
       "      <th>LON_TRIM</th>\n",
       "    </tr>\n",
       "  </thead>\n",
       "  <tbody>\n",
       "    <tr>\n",
       "      <th>128</th>\n",
       "      <td>11201</td>\n",
       "      <td>40.7098</td>\n",
       "      <td>-73.9754</td>\n",
       "    </tr>\n",
       "  </tbody>\n",
       "</table>\n",
       "</div>"
      ],
      "text/plain": [
       "     Zip Code  LAT_TRIM  LON_TRIM\n",
       "128     11201   40.7098  -73.9754"
      ]
     },
     "execution_count": 16,
     "metadata": {},
     "output_type": "execute_result"
    }
   ],
   "source": [
    "maxlatlon[maxlatlon['Zip Code'] == 11201]"
   ]
  },
  {
   "cell_type": "code",
   "execution_count": 17,
   "metadata": {
    "collapsed": true
   },
   "outputs": [],
   "source": [
    "minlat = test.groupby('Zip Code').LAT_TRIM.min().reset_index()\n",
    "minlon = test.groupby('Zip Code').LON_TRIM.min().reset_index()\n",
    "minlatlon = pd.merge(minlat, minlon, on=\"Zip Code\")"
   ]
  },
  {
   "cell_type": "code",
   "execution_count": 18,
   "metadata": {},
   "outputs": [
    {
     "data": {
      "text/html": [
       "<div>\n",
       "<table border=\"1\" class=\"dataframe\">\n",
       "  <thead>\n",
       "    <tr style=\"text-align: right;\">\n",
       "      <th></th>\n",
       "      <th>Zip Code</th>\n",
       "      <th>maxlat</th>\n",
       "      <th>maxlon</th>\n",
       "      <th>minlat</th>\n",
       "      <th>minlon</th>\n",
       "    </tr>\n",
       "  </thead>\n",
       "  <tbody>\n",
       "    <tr>\n",
       "      <th>128</th>\n",
       "      <td>11201</td>\n",
       "      <td>40.7098</td>\n",
       "      <td>-73.9754</td>\n",
       "      <td>40.6769</td>\n",
       "      <td>-74.0006</td>\n",
       "    </tr>\n",
       "  </tbody>\n",
       "</table>\n",
       "</div>"
      ],
      "text/plain": [
       "     Zip Code   maxlat   maxlon   minlat   minlon\n",
       "128     11201  40.7098 -73.9754  40.6769 -74.0006"
      ]
     },
     "execution_count": 18,
     "metadata": {},
     "output_type": "execute_result"
    }
   ],
   "source": [
    "minmaxlatlon = pd.merge(maxlatlon, minlatlon, on=\"Zip Code\")\n",
    "\n",
    "minmaxlatlon.rename(columns={'LAT_TRIM_x':'maxlat', 'LON_TRIM_x':'maxlon', \n",
    "                             'LAT_TRIM_y': 'minlat', 'LON_TRIM_y':'minlon'},\n",
    "                   inplace=True)\n",
    "\n",
    "minmaxlatlon[minmaxlatlon['Zip Code'] == 11201]"
   ]
  },
  {
   "cell_type": "code",
   "execution_count": 19,
   "metadata": {
    "collapsed": true
   },
   "outputs": [],
   "source": [
    "minmaxlatlon.to_csv(\"minmaxlatlon.csv\", index=False)"
   ]
  },
  {
   "cell_type": "markdown",
   "metadata": {},
   "source": [
    "## Max lat and lon for each zip codes from 2006 to 2016"
   ]
  },
  {
   "cell_type": "code",
   "execution_count": 20,
   "metadata": {},
   "outputs": [
    {
     "data": {
      "text/html": [
       "<div>\n",
       "<table border=\"1\" class=\"dataframe\">\n",
       "  <thead>\n",
       "    <tr style=\"text-align: right;\">\n",
       "      <th></th>\n",
       "      <th>LAT_TRIM</th>\n",
       "      <th>LON_TRIM</th>\n",
       "      <th>Zip Code</th>\n",
       "      <th>YEAR</th>\n",
       "    </tr>\n",
       "  </thead>\n",
       "  <tbody>\n",
       "    <tr>\n",
       "      <th>0</th>\n",
       "      <td>40.4988</td>\n",
       "      <td>-74.2405</td>\n",
       "      <td>10307</td>\n",
       "      <td>4</td>\n",
       "    </tr>\n",
       "    <tr>\n",
       "      <th>1</th>\n",
       "      <td>40.4989</td>\n",
       "      <td>-74.2415</td>\n",
       "      <td>10307</td>\n",
       "      <td>6</td>\n",
       "    </tr>\n",
       "    <tr>\n",
       "      <th>2</th>\n",
       "      <td>40.4990</td>\n",
       "      <td>-74.2444</td>\n",
       "      <td>10307</td>\n",
       "      <td>4</td>\n",
       "    </tr>\n",
       "    <tr>\n",
       "      <th>3</th>\n",
       "      <td>40.4991</td>\n",
       "      <td>-74.2435</td>\n",
       "      <td>10307</td>\n",
       "      <td>3</td>\n",
       "    </tr>\n",
       "    <tr>\n",
       "      <th>4</th>\n",
       "      <td>40.4992</td>\n",
       "      <td>-74.2431</td>\n",
       "      <td>10307</td>\n",
       "      <td>3</td>\n",
       "    </tr>\n",
       "  </tbody>\n",
       "</table>\n",
       "</div>"
      ],
      "text/plain": [
       "   LAT_TRIM  LON_TRIM  Zip Code  YEAR\n",
       "0   40.4988  -74.2405     10307     4\n",
       "1   40.4989  -74.2415     10307     6\n",
       "2   40.4990  -74.2444     10307     4\n",
       "3   40.4991  -74.2435     10307     3\n",
       "4   40.4992  -74.2431     10307     3"
      ]
     },
     "execution_count": 20,
     "metadata": {},
     "output_type": "execute_result"
    }
   ],
   "source": [
    "test = crimes.groupby(['LAT_TRIM', 'LON_TRIM', 'Zip Code'])['YEAR'].count().reset_index()\n",
    "test.head()"
   ]
  },
  {
   "cell_type": "code",
   "execution_count": 21,
   "metadata": {},
   "outputs": [
    {
     "data": {
      "text/html": [
       "<div>\n",
       "<table border=\"1\" class=\"dataframe\">\n",
       "  <thead>\n",
       "    <tr style=\"text-align: right;\">\n",
       "      <th></th>\n",
       "      <th>Zip Code</th>\n",
       "      <th>LAT_TRIM</th>\n",
       "    </tr>\n",
       "  </thead>\n",
       "  <tbody>\n",
       "    <tr>\n",
       "      <th>0</th>\n",
       "      <td>7030</td>\n",
       "      <td>40.7175</td>\n",
       "    </tr>\n",
       "    <tr>\n",
       "      <th>1</th>\n",
       "      <td>7305</td>\n",
       "      <td>40.6843</td>\n",
       "    </tr>\n",
       "    <tr>\n",
       "      <th>2</th>\n",
       "      <td>7306</td>\n",
       "      <td>40.6899</td>\n",
       "    </tr>\n",
       "    <tr>\n",
       "      <th>3</th>\n",
       "      <td>7307</td>\n",
       "      <td>40.7201</td>\n",
       "    </tr>\n",
       "    <tr>\n",
       "      <th>4</th>\n",
       "      <td>7648</td>\n",
       "      <td>40.9114</td>\n",
       "    </tr>\n",
       "  </tbody>\n",
       "</table>\n",
       "</div>"
      ],
      "text/plain": [
       "   Zip Code  LAT_TRIM\n",
       "0      7030   40.7175\n",
       "1      7305   40.6843\n",
       "2      7306   40.6899\n",
       "3      7307   40.7201\n",
       "4      7648   40.9114"
      ]
     },
     "execution_count": 21,
     "metadata": {},
     "output_type": "execute_result"
    }
   ],
   "source": [
    "maxlat = test.groupby('Zip Code').LAT_TRIM.max().reset_index()\n",
    "maxlat.head()"
   ]
  },
  {
   "cell_type": "code",
   "execution_count": 22,
   "metadata": {},
   "outputs": [
    {
     "data": {
      "text/html": [
       "<div>\n",
       "<table border=\"1\" class=\"dataframe\">\n",
       "  <thead>\n",
       "    <tr style=\"text-align: right;\">\n",
       "      <th></th>\n",
       "      <th>Zip Code</th>\n",
       "      <th>LON_TRIM</th>\n",
       "    </tr>\n",
       "  </thead>\n",
       "  <tbody>\n",
       "    <tr>\n",
       "      <th>0</th>\n",
       "      <td>7030</td>\n",
       "      <td>-73.9655</td>\n",
       "    </tr>\n",
       "    <tr>\n",
       "      <th>1</th>\n",
       "      <td>7305</td>\n",
       "      <td>-73.9671</td>\n",
       "    </tr>\n",
       "    <tr>\n",
       "      <th>2</th>\n",
       "      <td>7306</td>\n",
       "      <td>-73.9804</td>\n",
       "    </tr>\n",
       "    <tr>\n",
       "      <th>3</th>\n",
       "      <td>7307</td>\n",
       "      <td>-73.9848</td>\n",
       "    </tr>\n",
       "    <tr>\n",
       "      <th>4</th>\n",
       "      <td>7648</td>\n",
       "      <td>-73.8966</td>\n",
       "    </tr>\n",
       "  </tbody>\n",
       "</table>\n",
       "</div>"
      ],
      "text/plain": [
       "   Zip Code  LON_TRIM\n",
       "0      7030  -73.9655\n",
       "1      7305  -73.9671\n",
       "2      7306  -73.9804\n",
       "3      7307  -73.9848\n",
       "4      7648  -73.8966"
      ]
     },
     "execution_count": 22,
     "metadata": {},
     "output_type": "execute_result"
    }
   ],
   "source": [
    "maxlon = test.groupby('Zip Code').LON_TRIM.max().reset_index()\n",
    "maxlon.head()"
   ]
  },
  {
   "cell_type": "code",
   "execution_count": 23,
   "metadata": {},
   "outputs": [
    {
     "data": {
      "text/html": [
       "<div>\n",
       "<table border=\"1\" class=\"dataframe\">\n",
       "  <thead>\n",
       "    <tr style=\"text-align: right;\">\n",
       "      <th></th>\n",
       "      <th>Zip Code</th>\n",
       "      <th>LAT_TRIM</th>\n",
       "      <th>LON_TRIM</th>\n",
       "    </tr>\n",
       "  </thead>\n",
       "  <tbody>\n",
       "    <tr>\n",
       "      <th>0</th>\n",
       "      <td>7030</td>\n",
       "      <td>40.7175</td>\n",
       "      <td>-73.9655</td>\n",
       "    </tr>\n",
       "    <tr>\n",
       "      <th>1</th>\n",
       "      <td>7305</td>\n",
       "      <td>40.6843</td>\n",
       "      <td>-73.9671</td>\n",
       "    </tr>\n",
       "    <tr>\n",
       "      <th>2</th>\n",
       "      <td>7306</td>\n",
       "      <td>40.6899</td>\n",
       "      <td>-73.9804</td>\n",
       "    </tr>\n",
       "    <tr>\n",
       "      <th>3</th>\n",
       "      <td>7307</td>\n",
       "      <td>40.7201</td>\n",
       "      <td>-73.9848</td>\n",
       "    </tr>\n",
       "    <tr>\n",
       "      <th>4</th>\n",
       "      <td>7648</td>\n",
       "      <td>40.9114</td>\n",
       "      <td>-73.8966</td>\n",
       "    </tr>\n",
       "  </tbody>\n",
       "</table>\n",
       "</div>"
      ],
      "text/plain": [
       "   Zip Code  LAT_TRIM  LON_TRIM\n",
       "0      7030   40.7175  -73.9655\n",
       "1      7305   40.6843  -73.9671\n",
       "2      7306   40.6899  -73.9804\n",
       "3      7307   40.7201  -73.9848\n",
       "4      7648   40.9114  -73.8966"
      ]
     },
     "execution_count": 23,
     "metadata": {},
     "output_type": "execute_result"
    }
   ],
   "source": [
    "maxlatlon = pd.merge(maxlat, maxlon, on=\"Zip Code\")\n",
    "maxlatlon.head()"
   ]
  },
  {
   "cell_type": "code",
   "execution_count": 24,
   "metadata": {},
   "outputs": [
    {
     "data": {
      "text/html": [
       "<div>\n",
       "<table border=\"1\" class=\"dataframe\">\n",
       "  <thead>\n",
       "    <tr style=\"text-align: right;\">\n",
       "      <th></th>\n",
       "      <th>Zip Code</th>\n",
       "      <th>LAT_TRIM</th>\n",
       "      <th>LON_TRIM</th>\n",
       "    </tr>\n",
       "  </thead>\n",
       "  <tbody>\n",
       "    <tr>\n",
       "      <th>133</th>\n",
       "      <td>11201</td>\n",
       "      <td>40.7098</td>\n",
       "      <td>-73.953</td>\n",
       "    </tr>\n",
       "  </tbody>\n",
       "</table>\n",
       "</div>"
      ],
      "text/plain": [
       "     Zip Code  LAT_TRIM  LON_TRIM\n",
       "133     11201   40.7098   -73.953"
      ]
     },
     "execution_count": 24,
     "metadata": {},
     "output_type": "execute_result"
    }
   ],
   "source": [
    "maxlatlon[maxlatlon['Zip Code'] == 11201]"
   ]
  },
  {
   "cell_type": "code",
   "execution_count": 25,
   "metadata": {
    "collapsed": true
   },
   "outputs": [],
   "source": [
    "minlat = test.groupby('Zip Code').LAT_TRIM.min().reset_index()\n",
    "minlon = test.groupby('Zip Code').LON_TRIM.min().reset_index()\n",
    "minlatlon = pd.merge(minlat, minlon, on=\"Zip Code\")"
   ]
  },
  {
   "cell_type": "code",
   "execution_count": 26,
   "metadata": {},
   "outputs": [
    {
     "data": {
      "text/html": [
       "<div>\n",
       "<table border=\"1\" class=\"dataframe\">\n",
       "  <thead>\n",
       "    <tr style=\"text-align: right;\">\n",
       "      <th></th>\n",
       "      <th>Zip Code</th>\n",
       "      <th>maxlat</th>\n",
       "      <th>maxlon</th>\n",
       "      <th>minlat</th>\n",
       "      <th>minlon</th>\n",
       "    </tr>\n",
       "  </thead>\n",
       "  <tbody>\n",
       "    <tr>\n",
       "      <th>133</th>\n",
       "      <td>11201</td>\n",
       "      <td>40.7098</td>\n",
       "      <td>-73.953</td>\n",
       "      <td>40.6769</td>\n",
       "      <td>-74.0014</td>\n",
       "    </tr>\n",
       "  </tbody>\n",
       "</table>\n",
       "</div>"
      ],
      "text/plain": [
       "     Zip Code   maxlat  maxlon   minlat   minlon\n",
       "133     11201  40.7098 -73.953  40.6769 -74.0014"
      ]
     },
     "execution_count": 26,
     "metadata": {},
     "output_type": "execute_result"
    }
   ],
   "source": [
    "minmaxlatlon = pd.merge(maxlatlon, minlatlon, on=\"Zip Code\")\n",
    "\n",
    "minmaxlatlon.rename(columns={'LAT_TRIM_x':'maxlat', 'LON_TRIM_x':'maxlon', \n",
    "                             'LAT_TRIM_y': 'minlat', 'LON_TRIM_y':'minlon'},\n",
    "                   inplace=True)\n",
    "\n",
    "minmaxlatlon[minmaxlatlon['Zip Code'] == 11201]"
   ]
  },
  {
   "cell_type": "code",
   "execution_count": 27,
   "metadata": {
    "collapsed": true
   },
   "outputs": [],
   "source": [
    "minmaxlatlon.to_csv(\"minmaxlatlonAllYears.csv\", index=False)"
   ]
  },
  {
   "cell_type": "markdown",
   "metadata": {},
   "source": [
    "## Test mapping with one yearly dataset"
   ]
  },
  {
   "cell_type": "code",
   "execution_count": 34,
   "metadata": {},
   "outputs": [
    {
     "data": {
      "text/html": [
       "<div>\n",
       "<table border=\"1\" class=\"dataframe\">\n",
       "  <thead>\n",
       "    <tr style=\"text-align: right;\">\n",
       "      <th></th>\n",
       "      <th>LAT_TRIM</th>\n",
       "      <th>LON_TRIM</th>\n",
       "      <th>Zip Code</th>\n",
       "      <th>crime_count</th>\n",
       "    </tr>\n",
       "  </thead>\n",
       "  <tbody>\n",
       "    <tr>\n",
       "      <th>0</th>\n",
       "      <td>40.4989</td>\n",
       "      <td>-74.2415</td>\n",
       "      <td>10307</td>\n",
       "      <td>2</td>\n",
       "    </tr>\n",
       "    <tr>\n",
       "      <th>1</th>\n",
       "      <td>40.4990</td>\n",
       "      <td>-74.2444</td>\n",
       "      <td>10307</td>\n",
       "      <td>1</td>\n",
       "    </tr>\n",
       "    <tr>\n",
       "      <th>2</th>\n",
       "      <td>40.4997</td>\n",
       "      <td>-74.2408</td>\n",
       "      <td>10307</td>\n",
       "      <td>2</td>\n",
       "    </tr>\n",
       "    <tr>\n",
       "      <th>3</th>\n",
       "      <td>40.4999</td>\n",
       "      <td>-74.2399</td>\n",
       "      <td>10307</td>\n",
       "      <td>1</td>\n",
       "    </tr>\n",
       "    <tr>\n",
       "      <th>4</th>\n",
       "      <td>40.5015</td>\n",
       "      <td>-74.2385</td>\n",
       "      <td>10307</td>\n",
       "      <td>2</td>\n",
       "    </tr>\n",
       "  </tbody>\n",
       "</table>\n",
       "</div>"
      ],
      "text/plain": [
       "   LAT_TRIM  LON_TRIM  Zip Code  crime_count\n",
       "0   40.4989  -74.2415     10307            2\n",
       "1   40.4990  -74.2444     10307            1\n",
       "2   40.4997  -74.2408     10307            2\n",
       "3   40.4999  -74.2399     10307            1\n",
       "4   40.5015  -74.2385     10307            2"
      ]
     },
     "execution_count": 34,
     "metadata": {},
     "output_type": "execute_result"
    }
   ],
   "source": [
    "c2010 = pd.read_csv(\"crimes_2010.csv\")\n",
    "c2010.head()"
   ]
  },
  {
   "cell_type": "code",
   "execution_count": 62,
   "metadata": {},
   "outputs": [
    {
     "data": {
      "text/html": [
       "<div>\n",
       "<table border=\"1\" class=\"dataframe\">\n",
       "  <thead>\n",
       "    <tr style=\"text-align: right;\">\n",
       "      <th></th>\n",
       "      <th>Zip Code</th>\n",
       "      <th>maxlat</th>\n",
       "      <th>maxlon</th>\n",
       "      <th>minlat</th>\n",
       "      <th>minlon</th>\n",
       "    </tr>\n",
       "  </thead>\n",
       "  <tbody>\n",
       "    <tr>\n",
       "      <th>0</th>\n",
       "      <td>7030</td>\n",
       "      <td>40.7175</td>\n",
       "      <td>-73.9655</td>\n",
       "      <td>40.6770</td>\n",
       "      <td>-73.9955</td>\n",
       "    </tr>\n",
       "    <tr>\n",
       "      <th>1</th>\n",
       "      <td>7305</td>\n",
       "      <td>40.6843</td>\n",
       "      <td>-73.9671</td>\n",
       "      <td>40.6843</td>\n",
       "      <td>-73.9671</td>\n",
       "    </tr>\n",
       "    <tr>\n",
       "      <th>2</th>\n",
       "      <td>7306</td>\n",
       "      <td>40.6899</td>\n",
       "      <td>-73.9804</td>\n",
       "      <td>40.6899</td>\n",
       "      <td>-73.9809</td>\n",
       "    </tr>\n",
       "    <tr>\n",
       "      <th>3</th>\n",
       "      <td>7307</td>\n",
       "      <td>40.7201</td>\n",
       "      <td>-73.9848</td>\n",
       "      <td>40.7006</td>\n",
       "      <td>-74.0057</td>\n",
       "    </tr>\n",
       "    <tr>\n",
       "      <th>4</th>\n",
       "      <td>7648</td>\n",
       "      <td>40.9114</td>\n",
       "      <td>-73.8966</td>\n",
       "      <td>40.9114</td>\n",
       "      <td>-73.8966</td>\n",
       "    </tr>\n",
       "  </tbody>\n",
       "</table>\n",
       "</div>"
      ],
      "text/plain": [
       "   Zip Code   maxlat   maxlon   minlat   minlon\n",
       "0      7030  40.7175 -73.9655  40.6770 -73.9955\n",
       "1      7305  40.6843 -73.9671  40.6843 -73.9671\n",
       "2      7306  40.6899 -73.9804  40.6899 -73.9809\n",
       "3      7307  40.7201 -73.9848  40.7006 -74.0057\n",
       "4      7648  40.9114 -73.8966  40.9114 -73.8966"
      ]
     },
     "execution_count": 62,
     "metadata": {},
     "output_type": "execute_result"
    }
   ],
   "source": [
    "minmaxlatlon = pd.read_csv(\"minmaxlatlon.csv\")\n",
    "minmaxlatlon.head()"
   ]
  },
  {
   "cell_type": "code",
   "execution_count": 69,
   "metadata": {},
   "outputs": [
    {
     "data": {
      "text/plain": [
       "40.676900000000003"
      ]
     },
     "execution_count": 69,
     "metadata": {},
     "output_type": "execute_result"
    }
   ],
   "source": [
    "minmaxlatlon[minmaxlatlon['Zip Code'] == 11201].minlat.values[0]"
   ]
  },
  {
   "cell_type": "code",
   "execution_count": 70,
   "metadata": {
    "collapsed": true
   },
   "outputs": [],
   "source": [
    "# Example: zip code 11201\n",
    "\n",
    "c2010 = c2010[c2010['Zip Code'] == 11201]\n",
    "\n",
    "gt10color = lambda x: 'red' if x >= 10 else 'grey'\n",
    "c2010['color'] = c2010['crime_count'].map(gt10color)\n",
    "\n",
    "ymin = minmaxlatlon[minmaxlatlon['Zip Code'] == 11201].minlat.values[0]\n",
    "ymax = minmaxlatlon[minmaxlatlon['Zip Code'] == 11201].maxlat.values[0]\n",
    "xmin = minmaxlatlon[minmaxlatlon['Zip Code'] == 11201].minlon.values[0]\n",
    "xmax = minmaxlatlon[minmaxlatlon['Zip Code'] == 11201].maxlon.values[0]"
   ]
  },
  {
   "cell_type": "code",
   "execution_count": 71,
   "metadata": {},
   "outputs": [
    {
     "data": {
      "image/png": "[encoded data removed]",
      "text/plain": [
       "<matplotlib.figure.Figure at 0x117d944a8>"
      ]
     },
     "metadata": {},
     "output_type": "display_data"
    }
   ],
   "source": [
    "plt.scatter(c2010.LON_TRIM, c2010.LAT_TRIM, s=c2010['crime_count'], facecolor=c2010.color, lw = 0)\n",
    "plt.title(\"Zip Code 11201 - Crime Count in 2010\")\n",
    "plt.xlim([xmin, xmax])\n",
    "plt.ylim([ymin, ymax])\n",
    "\n",
    "plt.show()"
   ]
  },
  {
   "cell_type": "code",
   "execution_count": null,
   "metadata": {
    "collapsed": true
   },
   "outputs": [],
   "source": []
  },
  {
   "cell_type": "code",
   "execution_count": null,
   "metadata": {
    "collapsed": true
   },
   "outputs": [],
   "source": []
  }
 ],
 "metadata": {
  "anaconda-cloud": {},
  "kernelspec": {
   "display_name": "Python [python3]",
   "language": "python",
   "name": "Python [python3]"
  },
  "language_info": {
   "codemirror_mode": {
    "name": "ipython",
    "version": 3
   },
   "file_extension": ".py",
   "mimetype": "text/x-python",
   "name": "python",
   "nbconvert_exporter": "python",
   "pygments_lexer": "ipython3",
   "version": "3.5.2"
  }
 },
 "nbformat": 4,
 "nbformat_minor": 2
}
