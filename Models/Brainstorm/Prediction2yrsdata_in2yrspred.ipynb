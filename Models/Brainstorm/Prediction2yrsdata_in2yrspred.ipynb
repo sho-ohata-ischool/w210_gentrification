{
 "cells": [
  {
   "cell_type": "markdown",
   "metadata": {},
   "source": [
    "# Income Prediction ML - with AWI adjustments"
   ]
  },
  {
   "cell_type": "markdown",
   "metadata": {},
   "source": [
    "## Goal\n",
    "Predict year t+3 income from years t and t+1 data  \n",
    "- 2011 & 2012 data to predict 2014  \n",
    "- 2012 & 2013 data to predict 2015   "
   ]
  },
  {
   "cell_type": "code",
   "execution_count": 1,
   "metadata": {
    "collapsed": true
   },
   "outputs": [],
   "source": [
    "%matplotlib inline\n",
    "import matplotlib.pyplot as plt\n",
    "import numpy as np\n",
    "import pandas as pd\n",
    "import seaborn as sns"
   ]
  },
  {
   "cell_type": "code",
   "execution_count": 2,
   "metadata": {
    "collapsed": true
   },
   "outputs": [],
   "source": [
    "# Load data\n",
    "income = pd.read_csv(\"Income_Home_Prices_ZIP.csv\")"
   ]
  },
  {
   "cell_type": "code",
   "execution_count": 3,
   "metadata": {},
   "outputs": [
    {
     "data": {
      "text/plain": [
       "Index(['ZIP Code', 'Borough', 'Neighborhood', 'Year', 'Median HH Income ($)',\n",
       "       'Mean HH Income ($)', 'Median Home Value ($/sq. foot)', '% Employed',\n",
       "       '% Unemployed', '% Not in Labor Force', 'Bordering Water',\n",
       "       'Number of Subway Stations in ZIP', 'Stops in ZIP',\n",
       "       'Number of Subway Lines Serving ZIP', 'Lines Serving ZIP',\n",
       "       'Number of Parks', 'Number of Playgrounds', 'Park Acreage',\n",
       "       'LandSqMile', 'Latitude', 'Longitude', 'adjacentZIP'],\n",
       "      dtype='object')"
      ]
     },
     "execution_count": 3,
     "metadata": {},
     "output_type": "execute_result"
    }
   ],
   "source": [
    "# Datafram columns name\n",
    "income.columns"
   ]
  },
  {
   "cell_type": "code",
   "execution_count": 4,
   "metadata": {
    "collapsed": true
   },
   "outputs": [],
   "source": [
    "# Rename zip code column\n",
    "income = income.rename(columns = {'ZIP Code':'ZIPCODE'})"
   ]
  },
  {
   "cell_type": "code",
   "execution_count": 5,
   "metadata": {
    "collapsed": true
   },
   "outputs": [],
   "source": [
    "# Reformat Median HH Income to numeric values\n",
    "formatsign = lambda x: float(x.replace(\"$\",\"\").replace(\",\",\"\"))\n",
    "formatpercent = lambda x: float(x.replace(\"%\",\"\"))\n",
    "\n",
    "income['MedianIncome'] = income['Median HH Income ($)'].map(formatsign)\n",
    "income['HomeValue'] = income['Median Home Value ($/sq. foot)'].map(formatsign)"
   ]
  },
  {
   "cell_type": "code",
   "execution_count": 6,
   "metadata": {
    "collapsed": true
   },
   "outputs": [],
   "source": [
    "# Create Dataframe per year\n",
    "\n",
    "income2011 = income[income.Year == 2011]\n",
    "income2012 = income[income.Year == 2012]\n",
    "income2013 = income[income.Year == 2013]\n",
    "income2014 = income[income.Year == 2014]\n",
    "income2015 = income[income.Year == 2015]"
   ]
  },
  {
   "cell_type": "markdown",
   "metadata": {},
   "source": [
    "Year\tAWI\tIncrease (from previous year)  \n",
    "2015\t48,098.63\t3.48%  \n",
    "2014\t46,481.52\t3.55%  \n",
    "2013\t44,888.16\t1.28%  \n",
    "2012\t44,321.67\t3.12%  \n",
    "2011\t42,979.61\t3.13%  \n",
    "2010\t41,673.83\t2.36%  "
   ]
  },
  {
   "cell_type": "code",
   "execution_count": 7,
   "metadata": {},
   "outputs": [
    {
     "name": "stderr",
     "output_type": "stream",
     "text": [
      "/Applications/anaconda/envs/python3/lib/python3.5/site-packages/ipykernel/__main__.py:3: SettingWithCopyWarning: \n",
      "A value is trying to be set on a copy of a slice from a DataFrame.\n",
      "Try using .loc[row_indexer,col_indexer] = value instead\n",
      "\n",
      "See the caveats in the documentation: http://pandas.pydata.org/pandas-docs/stable/indexing.html#indexing-view-versus-copy\n",
      "  app.launch_new_instance()\n",
      "/Applications/anaconda/envs/python3/lib/python3.5/site-packages/ipykernel/__main__.py:4: SettingWithCopyWarning: \n",
      "A value is trying to be set on a copy of a slice from a DataFrame.\n",
      "Try using .loc[row_indexer,col_indexer] = value instead\n",
      "\n",
      "See the caveats in the documentation: http://pandas.pydata.org/pandas-docs/stable/indexing.html#indexing-view-versus-copy\n",
      "/Applications/anaconda/envs/python3/lib/python3.5/site-packages/ipykernel/__main__.py:5: SettingWithCopyWarning: \n",
      "A value is trying to be set on a copy of a slice from a DataFrame.\n",
      "Try using .loc[row_indexer,col_indexer] = value instead\n",
      "\n",
      "See the caveats in the documentation: http://pandas.pydata.org/pandas-docs/stable/indexing.html#indexing-view-versus-copy\n",
      "/Applications/anaconda/envs/python3/lib/python3.5/site-packages/ipykernel/__main__.py:6: SettingWithCopyWarning: \n",
      "A value is trying to be set on a copy of a slice from a DataFrame.\n",
      "Try using .loc[row_indexer,col_indexer] = value instead\n",
      "\n",
      "See the caveats in the documentation: http://pandas.pydata.org/pandas-docs/stable/indexing.html#indexing-view-versus-copy\n",
      "/Applications/anaconda/envs/python3/lib/python3.5/site-packages/ipykernel/__main__.py:7: SettingWithCopyWarning: \n",
      "A value is trying to be set on a copy of a slice from a DataFrame.\n",
      "Try using .loc[row_indexer,col_indexer] = value instead\n",
      "\n",
      "See the caveats in the documentation: http://pandas.pydata.org/pandas-docs/stable/indexing.html#indexing-view-versus-copy\n"
     ]
    }
   ],
   "source": [
    "# Remove the wage increase with reference year 2011\n",
    "\n",
    "income2011['MedianIncomeDisc'] = income2011['MedianIncome'].values\n",
    "income2012['MedianIncomeDisc'] = income2012['MedianIncome'].values / (1.0312)\n",
    "income2013['MedianIncomeDisc'] = income2013['MedianIncome'].values / ((1.0312)*(1.0128))\n",
    "income2014['MedianIncomeDisc'] = income2014['MedianIncome'].values / ((1.0312)*(1.0128)*(1.0355))\n",
    "income2015['MedianIncomeDisc'] = income2015['MedianIncome'].values / ((1.0312)*(1.0128)*(1.0355)*(1.0348))"
   ]
  },
  {
   "cell_type": "code",
   "execution_count": 8,
   "metadata": {},
   "outputs": [
    {
     "name": "stderr",
     "output_type": "stream",
     "text": [
      "/Applications/anaconda/envs/python3/lib/python3.5/site-packages/ipykernel/__main__.py:19: SettingWithCopyWarning: \n",
      "A value is trying to be set on a copy of a slice from a DataFrame.\n",
      "Try using .loc[row_indexer,col_indexer] = value instead\n",
      "\n",
      "See the caveats in the documentation: http://pandas.pydata.org/pandas-docs/stable/indexing.html#indexing-view-versus-copy\n"
     ]
    }
   ],
   "source": [
    "def neighbor_avg2011(zips):\n",
    "    zips_list = [int(z) for z in zips.split(\",\")]\n",
    "    total = 0\n",
    "    n = 0\n",
    "\n",
    "    for zz in zips_list:\n",
    "        try:\n",
    "            neighbor = income2011[income2011.ZIPCODE == zz]['MedianIncomeDisc'].tolist()[0]\n",
    "            total += neighbor\n",
    "            n += 1\n",
    "        except:\n",
    "            pass\n",
    "    \n",
    "    avg = round(total/n,2)\n",
    "    \n",
    "    return avg\n",
    "\n",
    "# Calculate average of adjacent areas income\n",
    "income2011['MedianIncomeAdj'] = income2011['adjacentZIP'].map(neighbor_avg2011)"
   ]
  },
  {
   "cell_type": "code",
   "execution_count": 9,
   "metadata": {},
   "outputs": [
    {
     "name": "stderr",
     "output_type": "stream",
     "text": [
      "/Applications/anaconda/envs/python3/lib/python3.5/site-packages/ipykernel/__main__.py:19: SettingWithCopyWarning: \n",
      "A value is trying to be set on a copy of a slice from a DataFrame.\n",
      "Try using .loc[row_indexer,col_indexer] = value instead\n",
      "\n",
      "See the caveats in the documentation: http://pandas.pydata.org/pandas-docs/stable/indexing.html#indexing-view-versus-copy\n"
     ]
    }
   ],
   "source": [
    "def neighbor_avg2012(zips):\n",
    "    zips_list = [int(z) for z in zips.split(\",\")]\n",
    "    total = 0\n",
    "    n = 0\n",
    "\n",
    "    for zz in zips_list:\n",
    "        try:\n",
    "            neighbor = income2012[income2012.ZIPCODE == zz]['MedianIncomeDisc'].tolist()[0]\n",
    "            total += neighbor\n",
    "            n += 1\n",
    "        except:\n",
    "            pass\n",
    "    \n",
    "    avg = round(total/n,2)\n",
    "    \n",
    "    return avg\n",
    "\n",
    "# Calculate average of adjacent areas income\n",
    "income2012['MedianIncomeAdj'] = income2012['adjacentZIP'].map(neighbor_avg2012)"
   ]
  },
  {
   "cell_type": "code",
   "execution_count": 10,
   "metadata": {},
   "outputs": [
    {
     "name": "stderr",
     "output_type": "stream",
     "text": [
      "/Applications/anaconda/envs/python3/lib/python3.5/site-packages/ipykernel/__main__.py:19: SettingWithCopyWarning: \n",
      "A value is trying to be set on a copy of a slice from a DataFrame.\n",
      "Try using .loc[row_indexer,col_indexer] = value instead\n",
      "\n",
      "See the caveats in the documentation: http://pandas.pydata.org/pandas-docs/stable/indexing.html#indexing-view-versus-copy\n"
     ]
    }
   ],
   "source": [
    "def neighbor_avg2013(zips):\n",
    "    zips_list = [int(z) for z in zips.split(\",\")]\n",
    "    total = 0\n",
    "    n = 0\n",
    "\n",
    "    for zz in zips_list:\n",
    "        try:\n",
    "            neighbor = income2013[income2013.ZIPCODE == zz]['MedianIncomeDisc'].tolist()[0]\n",
    "            total += neighbor\n",
    "            n += 1\n",
    "        except:\n",
    "            pass\n",
    "    \n",
    "    avg = round(total/n,2)\n",
    "    \n",
    "    return avg\n",
    "\n",
    "# Calculate average of adjacent areas income\n",
    "income2013['MedianIncomeAdj'] = income2013['adjacentZIP'].map(neighbor_avg2013)"
   ]
  },
  {
   "cell_type": "code",
   "execution_count": 11,
   "metadata": {},
   "outputs": [
    {
     "name": "stderr",
     "output_type": "stream",
     "text": [
      "/Applications/anaconda/envs/python3/lib/python3.5/site-packages/ipykernel/__main__.py:19: SettingWithCopyWarning: \n",
      "A value is trying to be set on a copy of a slice from a DataFrame.\n",
      "Try using .loc[row_indexer,col_indexer] = value instead\n",
      "\n",
      "See the caveats in the documentation: http://pandas.pydata.org/pandas-docs/stable/indexing.html#indexing-view-versus-copy\n"
     ]
    }
   ],
   "source": [
    "def neighbor_avg2014(zips):\n",
    "    zips_list = [int(z) for z in zips.split(\",\")]\n",
    "    total = 0\n",
    "    n = 0\n",
    "\n",
    "    for zz in zips_list:\n",
    "        try:\n",
    "            neighbor = income2014[income2014.ZIPCODE == zz]['MedianIncomeDisc'].tolist()[0]\n",
    "            total += neighbor\n",
    "            n += 1\n",
    "        except:\n",
    "            pass\n",
    "    \n",
    "    avg = round(total/n,2)\n",
    "    \n",
    "    return avg\n",
    "\n",
    "# Calculate average of adjacent areas income\n",
    "income2014['MedianIncomeAdj'] = income2014['adjacentZIP'].map(neighbor_avg2014)"
   ]
  },
  {
   "cell_type": "code",
   "execution_count": 12,
   "metadata": {},
   "outputs": [
    {
     "name": "stderr",
     "output_type": "stream",
     "text": [
      "/Applications/anaconda/envs/python3/lib/python3.5/site-packages/ipykernel/__main__.py:19: SettingWithCopyWarning: \n",
      "A value is trying to be set on a copy of a slice from a DataFrame.\n",
      "Try using .loc[row_indexer,col_indexer] = value instead\n",
      "\n",
      "See the caveats in the documentation: http://pandas.pydata.org/pandas-docs/stable/indexing.html#indexing-view-versus-copy\n"
     ]
    }
   ],
   "source": [
    "def neighbor_avg2015(zips):\n",
    "    zips_list = [int(z) for z in zips.split(\",\")]\n",
    "    total = 0\n",
    "    n = 0\n",
    "\n",
    "    for zz in zips_list:\n",
    "        try:\n",
    "            neighbor = income2015[income2015.ZIPCODE == zz]['MedianIncomeDisc'].tolist()[0]\n",
    "            total += neighbor\n",
    "            n += 1\n",
    "        except:\n",
    "            pass\n",
    "    \n",
    "    avg = round(total/n,2)\n",
    "    \n",
    "    return avg\n",
    "\n",
    "# Calculate average of adjacent areas income\n",
    "income2015['MedianIncomeAdj'] = income2015['adjacentZIP'].map(neighbor_avg2015)"
   ]
  },
  {
   "cell_type": "code",
   "execution_count": 13,
   "metadata": {},
   "outputs": [
    {
     "data": {
      "text/plain": [
       "1    93789.52\n",
       "Name: MedianIncomeAdj, dtype: float64"
      ]
     },
     "execution_count": 13,
     "metadata": {},
     "output_type": "execute_result"
    }
   ],
   "source": [
    "# Check\n",
    "income2012[income2012.ZIPCODE == 10001].MedianIncomeAdj"
   ]
  },
  {
   "cell_type": "code",
   "execution_count": null,
   "metadata": {
    "collapsed": true
   },
   "outputs": [],
   "source": []
  },
  {
   "cell_type": "markdown",
   "metadata": {},
   "source": [
    "# Income Prediction Random Forest Regressor"
   ]
  },
  {
   "cell_type": "code",
   "execution_count": 14,
   "metadata": {
    "collapsed": true
   },
   "outputs": [],
   "source": [
    "from sklearn.tree import DecisionTreeRegressor\n",
    "from sklearn.ensemble import RandomForestRegressor\n",
    "from sklearn.ensemble import GradientBoostingRegressor\n",
    "from sklearn.linear_model import LinearRegression\n",
    "from sklearn.metrics import mean_squared_error\n",
    "from sklearn.metrics import r2_score"
   ]
  },
  {
   "cell_type": "markdown",
   "metadata": {},
   "source": [
    "#### A) Data pre-processing"
   ]
  },
  {
   "cell_type": "code",
   "execution_count": 15,
   "metadata": {},
   "outputs": [
    {
     "name": "stderr",
     "output_type": "stream",
     "text": [
      "/Applications/anaconda/envs/python3/lib/python3.5/site-packages/ipykernel/__main__.py:6: SettingWithCopyWarning: \n",
      "A value is trying to be set on a copy of a slice from a DataFrame.\n",
      "Try using .loc[row_indexer,col_indexer] = value instead\n",
      "\n",
      "See the caveats in the documentation: http://pandas.pydata.org/pandas-docs/stable/indexing.html#indexing-view-versus-copy\n",
      "/Applications/anaconda/envs/python3/lib/python3.5/site-packages/ipykernel/__main__.py:7: SettingWithCopyWarning: \n",
      "A value is trying to be set on a copy of a slice from a DataFrame.\n",
      "Try using .loc[row_indexer,col_indexer] = value instead\n",
      "\n",
      "See the caveats in the documentation: http://pandas.pydata.org/pandas-docs/stable/indexing.html#indexing-view-versus-copy\n"
     ]
    }
   ],
   "source": [
    "# Prediciton of income at t+3 - create output variable income t+3\n",
    "# example t and t+1 to predict t+3\n",
    "# 2011 and 2012 to predict 2014\n",
    "# 2012 and 2013 to predict 2015\n",
    "\n",
    "income2011['MedianIncomeDisc_in2yrs'] = income2014['MedianIncomeDisc'].values\n",
    "income2012['MedianIncomeDisc_in2yrs'] = income2015['MedianIncomeDisc'].values"
   ]
  },
  {
   "cell_type": "code",
   "execution_count": 16,
   "metadata": {},
   "outputs": [
    {
     "name": "stderr",
     "output_type": "stream",
     "text": [
      "/Applications/anaconda/envs/python3/lib/python3.5/site-packages/ipykernel/__main__.py:3: SettingWithCopyWarning: \n",
      "A value is trying to be set on a copy of a slice from a DataFrame.\n",
      "Try using .loc[row_indexer,col_indexer] = value instead\n",
      "\n",
      "See the caveats in the documentation: http://pandas.pydata.org/pandas-docs/stable/indexing.html#indexing-view-versus-copy\n",
      "  app.launch_new_instance()\n",
      "/Applications/anaconda/envs/python3/lib/python3.5/site-packages/ipykernel/__main__.py:4: SettingWithCopyWarning: \n",
      "A value is trying to be set on a copy of a slice from a DataFrame.\n",
      "Try using .loc[row_indexer,col_indexer] = value instead\n",
      "\n",
      "See the caveats in the documentation: http://pandas.pydata.org/pandas-docs/stable/indexing.html#indexing-view-versus-copy\n",
      "/Applications/anaconda/envs/python3/lib/python3.5/site-packages/ipykernel/__main__.py:6: SettingWithCopyWarning: \n",
      "A value is trying to be set on a copy of a slice from a DataFrame.\n",
      "Try using .loc[row_indexer,col_indexer] = value instead\n",
      "\n",
      "See the caveats in the documentation: http://pandas.pydata.org/pandas-docs/stable/indexing.html#indexing-view-versus-copy\n",
      "/Applications/anaconda/envs/python3/lib/python3.5/site-packages/ipykernel/__main__.py:7: SettingWithCopyWarning: \n",
      "A value is trying to be set on a copy of a slice from a DataFrame.\n",
      "Try using .loc[row_indexer,col_indexer] = value instead\n",
      "\n",
      "See the caveats in the documentation: http://pandas.pydata.org/pandas-docs/stable/indexing.html#indexing-view-versus-copy\n"
     ]
    }
   ],
   "source": [
    "# Create input feature variables at t+1 (note: all variables x are static except for income t+1 and adjacent area t+1)\n",
    "\n",
    "income2011['MedianIncomeDisc_t1'] = income2012['MedianIncomeDisc'].values\n",
    "income2012['MedianIncomeDisc_t1'] = income2013['MedianIncomeDisc'].values\n",
    "\n",
    "income2011['MedianIncomeAdj_t1'] = income2012['MedianIncomeAdj'].values\n",
    "income2012['MedianIncomeAdj_t1'] = income2013['MedianIncomeAdj'].values"
   ]
  },
  {
   "cell_type": "code",
   "execution_count": 17,
   "metadata": {
    "collapsed": true
   },
   "outputs": [],
   "source": [
    "# Create dataset for ML training\n",
    "\n",
    "X = income2011.append(income2012)"
   ]
  },
  {
   "cell_type": "code",
   "execution_count": 18,
   "metadata": {},
   "outputs": [
    {
     "data": {
      "text/plain": [
       "Index(['ZIPCODE', 'Borough', 'Neighborhood', 'Year', 'Median HH Income ($)',\n",
       "       'Mean HH Income ($)', 'Median Home Value ($/sq. foot)', '% Employed',\n",
       "       '% Unemployed', '% Not in Labor Force', 'Bordering Water',\n",
       "       'Number of Subway Stations in ZIP', 'Stops in ZIP',\n",
       "       'Number of Subway Lines Serving ZIP', 'Lines Serving ZIP',\n",
       "       'Number of Parks', 'Number of Playgrounds', 'Park Acreage',\n",
       "       'LandSqMile', 'Latitude', 'Longitude', 'adjacentZIP', 'MedianIncome',\n",
       "       'HomeValue', 'MedianIncomeDisc', 'MedianIncomeAdj',\n",
       "       'MedianIncomeDisc_in2yrs', 'MedianIncomeDisc_t1', 'MedianIncomeAdj_t1'],\n",
       "      dtype='object')"
      ]
     },
     "execution_count": 18,
     "metadata": {},
     "output_type": "execute_result"
    }
   ],
   "source": [
    "X.columns"
   ]
  },
  {
   "cell_type": "code",
   "execution_count": 19,
   "metadata": {},
   "outputs": [
    {
     "data": {
      "text/plain": [
       "Index(['ZIPCODE', 'Year', '% Employed', 'Bordering Water',\n",
       "       'Number of Subway Lines Serving ZIP', 'Number of Parks',\n",
       "       'Number of Playgrounds', 'Park Acreage', 'MedianIncomeDisc',\n",
       "       'MedianIncomeAdj', 'MedianIncomeDisc_in2yrs', 'MedianIncomeDisc_t1',\n",
       "       'MedianIncomeAdj_t1'],\n",
       "      dtype='object')"
      ]
     },
     "execution_count": 19,
     "metadata": {},
     "output_type": "execute_result"
    }
   ],
   "source": [
    "# Extra data processing\n",
    "\n",
    "def yesno(x):\n",
    "    if x == \"Y\":\n",
    "        return 1\n",
    "    else:\n",
    "        return 0\n",
    "\n",
    "X['% Employed'] = X['% Employed'].map(formatpercent)\n",
    "X['Bordering Water'] = X['Bordering Water'].map(yesno)\n",
    "X['Number of Subway Lines Serving ZIP'].fillna(0, inplace=True)\n",
    "\n",
    "not_features = ['Borough', 'Neighborhood','LandSqMile', 'Latitude',\n",
    "       'Longitude','Median HH Income ($)',\n",
    "       'Mean HH Income ($)', 'Median Home Value ($/sq. foot)',\n",
    "       '% Unemployed', '% Not in Labor Force',\n",
    "       'Number of Subway Stations in ZIP', 'Stops in ZIP','Lines Serving ZIP',\n",
    "       'adjacentZIP','HomeValue', 'MedianIncome']\n",
    "\n",
    "for notf in not_features:\n",
    "    del X[notf]\n",
    "    \n",
    "X.columns"
   ]
  },
  {
   "cell_type": "code",
   "execution_count": 20,
   "metadata": {
    "collapsed": true
   },
   "outputs": [],
   "source": [
    "# Shuffle data\n",
    "X = X.sample(frac=1, random_state=0).reset_index(drop=True)\n",
    "\n",
    "# Create labels\n",
    "Y = [i for i in X.MedianIncomeDisc_in2yrs]\n",
    "Year = [i for i in X.Year]\n",
    "ZIP = [i for i in X.ZIPCODE]\n",
    "\n",
    "# Drop labels from input data\n",
    "X.drop('MedianIncomeDisc_in2yrs', axis=1, inplace=True)\n",
    "X.drop('Year', axis=1, inplace=True)\n",
    "X.drop('ZIPCODE', axis=1, inplace=True)\n",
    "\n",
    "n = int(X.shape[0] * 4/5)\n",
    "X_train = X[:n]\n",
    "Y_train = Y[:n]\n",
    "Year_train = Year[:n]\n",
    "ZIP_train = ZIP[:n]\n",
    "X_test = X[n:]\n",
    "Y_test = Y[n:]\n",
    "Year_test = Year[n:]\n",
    "ZIP_test = ZIP[n:]"
   ]
  },
  {
   "cell_type": "code",
   "execution_count": 21,
   "metadata": {},
   "outputs": [
    {
     "name": "stdout",
     "output_type": "stream",
     "text": [
      "(280, 10)\n",
      "280\n",
      "280\n"
     ]
    }
   ],
   "source": [
    "print(X_train.shape)\n",
    "print(len(Y_train))\n",
    "print(len(Year_train))"
   ]
  },
  {
   "cell_type": "markdown",
   "metadata": {},
   "source": [
    "### B) ML algorithms"
   ]
  },
  {
   "cell_type": "markdown",
   "metadata": {},
   "source": [
    "#### B0 - Baseline"
   ]
  },
  {
   "cell_type": "code",
   "execution_count": 22,
   "metadata": {},
   "outputs": [
    {
     "name": "stdout",
     "output_type": "stream",
     "text": [
      "Mean squared error: 24222179.04\n",
      "Mean absolute percentage error: 7.02279986876\n",
      "Variance score: 0.952525\n"
     ]
    }
   ],
   "source": [
    "# Baseline - predicted t+3 = income at t\n",
    "Y1 = np.array(X_test['MedianIncomeDisc'].tolist())  # pred\n",
    "Y2 = Y_test  # actual\n",
    "\n",
    "# The mean squared error\n",
    "print(\"Mean squared error: %.2f\" % mean_squared_error(Y2, Y1))\n",
    "\n",
    "\n",
    "# The MAPE (mean absolute percentage error)\n",
    "print(\"Mean absolute percentage error:\", np.mean(np.abs((Y2 - Y1) / Y2)) * 100)\n",
    "\n",
    "\n",
    "# Explained variance score: 1 is perfect prediction (goodness of fit measures same are .score method)\n",
    "print('Variance score: %.6f' % r2_score(Y2, Y1))"
   ]
  },
  {
   "cell_type": "code",
   "execution_count": 27,
   "metadata": {},
   "outputs": [
    {
     "name": "stdout",
     "output_type": "stream",
     "text": [
      "Mean squared error: 11923488.29\n",
      "Mean absolute percentage error: 4.85666576148\n",
      "Variance score: 0.976630\n"
     ]
    }
   ],
   "source": [
    "# Baseline - predicted t+3 = income at t+1\n",
    "Y1 = np.array(X_test['MedianIncomeDisc_t1'].tolist())  # pred\n",
    "Y2 = Y_test  # actual\n",
    "\n",
    "# The mean squared error\n",
    "print(\"Mean squared error: %.2f\" % mean_squared_error(Y2, Y1))\n",
    "\n",
    "\n",
    "# The MAPE (mean absolute percentage error)\n",
    "print(\"Mean absolute percentage error:\", np.mean(np.abs((Y2 - Y1) / Y2)) * 100)\n",
    "\n",
    "\n",
    "# Explained variance score: 1 is perfect prediction (goodness of fit measures same are .score method)\n",
    "print('Variance score: %.6f' % r2_score(Y2, Y1))"
   ]
  },
  {
   "cell_type": "markdown",
   "metadata": {},
   "source": [
    "#### B1 - Random Forest"
   ]
  },
  {
   "cell_type": "code",
   "execution_count": 23,
   "metadata": {},
   "outputs": [
    {
     "name": "stdout",
     "output_type": "stream",
     "text": [
      "Best feature is 0\n",
      "Performance is  0.999815911124\n",
      "Mean squared error: 7176937.71\n",
      "Mean absolute percentage error: 3.51056033728\n",
      "Variance score: 0.985933\n"
     ]
    }
   ],
   "source": [
    "# 1. Random Forest Regression\n",
    "\n",
    "rf = RandomForestRegressor(n_estimators=500, criterion='mse', max_depth=8, random_state=0) # mse: mean squared error, \n",
    "                                                         # classes= 2^max_depth = 256 vs 174 zips?\n",
    "rf.fit(X_train,Y_train)\n",
    "print('Best feature is ' + str(np.where(rf.feature_importances_)[0][0]))\n",
    "preds_rf = rf.predict(X_test)\n",
    "\n",
    "performance = 1 - abs(np.mean(preds_rf - Y_test)) / (max(Y) - min(Y))\n",
    "print('Performance is ', performance)\n",
    "\n",
    "\n",
    "# The mean squared error\n",
    "print(\"Mean squared error: %.2f\" % mean_squared_error(Y_test, preds_rf))\n",
    "\n",
    "# The MAPE (mean absolute percentage error)\n",
    "print(\"Mean absolute percentage error:\", np.mean(np.abs((Y_test - preds_rf) / Y_test)) * 100)\n",
    "\n",
    "# Explained variance score: 1 is perfect prediction (goodness of fit measures same are .score method)\n",
    "print('Variance score: %.6f' % r2_score(Y_test, preds_rf))"
   ]
  },
  {
   "cell_type": "code",
   "execution_count": 24,
   "metadata": {},
   "outputs": [
    {
     "name": "stdout",
     "output_type": "stream",
     "text": [
      "Index(['% Employed', 'Bordering Water', 'Number of Subway Lines Serving ZIP',\n",
      "       'Number of Parks', 'Number of Playgrounds', 'Park Acreage',\n",
      "       'MedianIncomeDisc', 'MedianIncomeAdj', 'MedianIncomeDisc_t1',\n",
      "       'MedianIncomeAdj_t1'],\n",
      "      dtype='object')\n",
      "[  4.16525453e-03   2.46884500e-04   5.36512657e-03   1.42434211e-03\n",
      "   3.03171930e-04   2.28389313e-03   2.41103108e-01   3.06758713e-03\n",
      "   7.35602637e-01   6.43799507e-03]\n"
     ]
    }
   ],
   "source": [
    "print(X_train.columns)\n",
    "print(rf.feature_importances_)"
   ]
  },
  {
   "cell_type": "code",
   "execution_count": 25,
   "metadata": {
    "collapsed": true
   },
   "outputs": [],
   "source": [
    "results = np.vstack((Year_test, ZIP_test, Y_test, preds_rf))\n",
    "np.savetxt(\"RF_2yrs.csv\", results, delimiter=\",\")"
   ]
  },
  {
   "cell_type": "markdown",
   "metadata": {},
   "source": [
    "#### B2 - Linear Regression"
   ]
  },
  {
   "cell_type": "code",
   "execution_count": 26,
   "metadata": {},
   "outputs": [
    {
     "name": "stdout",
     "output_type": "stream",
     "text": [
      "Index(['% Employed', 'Bordering Water', 'Number of Subway Lines Serving ZIP',\n",
      "       'Number of Parks', 'Number of Playgrounds', 'Park Acreage',\n",
      "       'MedianIncomeDisc', 'MedianIncomeAdj', 'MedianIncomeDisc_t1',\n",
      "       'MedianIncomeAdj_t1'],\n",
      "      dtype='object')\n",
      "Intercept: \n",
      " -742.491633571\n",
      "Coefficients: \n",
      " [ -4.48812698e+01  -1.75894435e+01   6.21723896e+02  -3.90496869e+00\n",
      "  -4.35471793e+01   9.59754563e-03   5.75513959e-02   5.96583572e-02\n",
      "   9.67742099e-01  -7.57826864e-02]\n",
      "\n",
      "Mean squared error: 9739521.04\n",
      "Mean absolute percentage error: 4.28066643753\n",
      "Variance score: 0.980911\n"
     ]
    }
   ],
   "source": [
    "# 2. Linear Regression\n",
    "\n",
    "lr = LinearRegression()\n",
    "lr.fit(X_train, Y_train)\n",
    "\n",
    "preds_lr = lr.predict(X_test)\n",
    "\n",
    "\n",
    "# The coefficients\n",
    "print(X_train.columns)\n",
    "print('Intercept: \\n', lr.intercept_)\n",
    "print('Coefficients: \\n', lr.coef_)\n",
    "print(\"\")\n",
    "\n",
    "# The mean squared error\n",
    "print(\"Mean squared error: %.2f\" % mean_squared_error(Y_test, preds_lr))\n",
    "\n",
    "# The MAPE (mean absolute percentage error)\n",
    "print(\"Mean absolute percentage error:\", np.mean(np.abs((Y_test - preds_lr) / Y_test)) * 100)\n",
    "\n",
    "# Explained variance score: 1 is perfect prediction (goodness of fit measures same are .score method)\n",
    "print('Variance score: %.6f' % r2_score(Y_test, preds_lr))"
   ]
  },
  {
   "cell_type": "code",
   "execution_count": null,
   "metadata": {
    "collapsed": true
   },
   "outputs": [],
   "source": []
  }
 ],
 "metadata": {
  "anaconda-cloud": {},
  "kernelspec": {
   "display_name": "Python [python3]",
   "language": "python",
   "name": "Python [python3]"
  },
  "language_info": {
   "codemirror_mode": {
    "name": "ipython",
    "version": 3
   },
   "file_extension": ".py",
   "mimetype": "text/x-python",
   "name": "python",
   "nbconvert_exporter": "python",
   "pygments_lexer": "ipython3",
   "version": "3.5.2"
  }
 },
 "nbformat": 4,
 "nbformat_minor": 2
}
