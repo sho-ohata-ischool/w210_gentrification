{
 "cells": [
  {
   "cell_type": "markdown",
   "metadata": {},
   "source": [
    "# Income Prediction ML - without AWI adjustment"
   ]
  },
  {
   "cell_type": "markdown",
   "metadata": {},
   "source": [
    "## Goal\n",
    "Predict year t+2 income from year t data  - **without AWI adjustment** for all incomes\n",
    "- 2011 data to predict 2013  \n",
    "- 2012 data to predict 2014  \n",
    "- 2013 data to predict 2015  "
   ]
  },
  {
   "cell_type": "code",
   "execution_count": 1,
   "metadata": {
    "collapsed": true
   },
   "outputs": [],
   "source": [
    "%matplotlib inline\n",
    "import matplotlib.pyplot as plt\n",
    "import numpy as np\n",
    "import pandas as pd\n",
    "import seaborn as sns"
   ]
  },
  {
   "cell_type": "code",
   "execution_count": 2,
   "metadata": {
    "collapsed": true
   },
   "outputs": [],
   "source": [
    "# Load data\n",
    "income = pd.read_csv(\"Income_Home_Prices_ZIP.csv\")"
   ]
  },
  {
   "cell_type": "code",
   "execution_count": 3,
   "metadata": {},
   "outputs": [
    {
     "data": {
      "text/plain": [
       "Index(['ZIP Code', 'Borough', 'Neighborhood', 'Year', 'Median HH Income ($)',\n",
       "       'Mean HH Income ($)', 'Median Home Value ($/sq. foot)', '% Employed',\n",
       "       '% Unemployed', '% Not in Labor Force', 'Bordering Water',\n",
       "       'Number of Subway Stations in ZIP', 'Stops in ZIP',\n",
       "       'Number of Subway Lines Serving ZIP', 'Lines Serving ZIP',\n",
       "       'Number of Parks', 'Number of Playgrounds', 'Park Acreage',\n",
       "       'LandSqMile', 'Latitude', 'Longitude', 'adjacentZIP'],\n",
       "      dtype='object')"
      ]
     },
     "execution_count": 3,
     "metadata": {},
     "output_type": "execute_result"
    }
   ],
   "source": [
    "# Datafram columns name\n",
    "income.columns"
   ]
  },
  {
   "cell_type": "code",
   "execution_count": 5,
   "metadata": {
    "collapsed": true
   },
   "outputs": [],
   "source": [
    "# Rename zip code column\n",
    "income = income.rename(columns = {'ZIP Code':'ZIPCODE'})"
   ]
  },
  {
   "cell_type": "code",
   "execution_count": 10,
   "metadata": {},
   "outputs": [],
   "source": [
    "# Reformat Median HH Income to numeric values\n",
    "formatsign = lambda x: float(x.replace(\"$\",\"\").replace(\",\",\"\"))\n",
    "formatpercent = lambda x: float(x.replace(\"%\",\"\"))\n",
    "\n",
    "income['MedianIncome'] = income['Median HH Income ($)'].map(formatsign)\n",
    "income['HomeValue'] = income['Median Home Value ($/sq. foot)'].map(formatsign)"
   ]
  },
  {
   "cell_type": "code",
   "execution_count": 11,
   "metadata": {
    "collapsed": true
   },
   "outputs": [],
   "source": [
    "# Create Dataframe per year\n",
    "\n",
    "income2011 = income[income.Year == 2011]\n",
    "income2012 = income[income.Year == 2012]\n",
    "income2013 = income[income.Year == 2013]\n",
    "income2014 = income[income.Year == 2014]\n",
    "income2015 = income[income.Year == 2015]"
   ]
  },
  {
   "cell_type": "code",
   "execution_count": 12,
   "metadata": {
    "collapsed": true
   },
   "outputs": [],
   "source": [
    "# Calculate mean of surrounding areas median income"
   ]
  },
  {
   "cell_type": "code",
   "execution_count": 13,
   "metadata": {},
   "outputs": [
    {
     "name": "stderr",
     "output_type": "stream",
     "text": [
      "/Applications/anaconda/envs/python3/lib/python3.5/site-packages/ipykernel/__main__.py:19: SettingWithCopyWarning: \n",
      "A value is trying to be set on a copy of a slice from a DataFrame.\n",
      "Try using .loc[row_indexer,col_indexer] = value instead\n",
      "\n",
      "See the caveats in the documentation: http://pandas.pydata.org/pandas-docs/stable/indexing.html#indexing-view-versus-copy\n"
     ]
    }
   ],
   "source": [
    "def neighbor_avg2011(zips):\n",
    "    zips_list = [int(z) for z in zips.split(\",\")]\n",
    "    total = 0\n",
    "    n = 0\n",
    "\n",
    "    for zz in zips_list:\n",
    "        try:\n",
    "            neighbor = income2011[income2011.ZIPCODE == zz]['MedianIncome'].tolist()[0]\n",
    "            total += neighbor\n",
    "            n += 1\n",
    "        except:\n",
    "            pass\n",
    "    \n",
    "    avg = round(total/n,2)\n",
    "    \n",
    "    return avg\n",
    "\n",
    "# Calculate average of adjacent areas income\n",
    "income2011['MedianIncomeAdj'] = income2011['adjacentZIP'].map(neighbor_avg2011)"
   ]
  },
  {
   "cell_type": "code",
   "execution_count": 14,
   "metadata": {},
   "outputs": [
    {
     "name": "stderr",
     "output_type": "stream",
     "text": [
      "/Applications/anaconda/envs/python3/lib/python3.5/site-packages/ipykernel/__main__.py:19: SettingWithCopyWarning: \n",
      "A value is trying to be set on a copy of a slice from a DataFrame.\n",
      "Try using .loc[row_indexer,col_indexer] = value instead\n",
      "\n",
      "See the caveats in the documentation: http://pandas.pydata.org/pandas-docs/stable/indexing.html#indexing-view-versus-copy\n"
     ]
    }
   ],
   "source": [
    "def neighbor_avg2012(zips):\n",
    "    zips_list = [int(z) for z in zips.split(\",\")]\n",
    "    total = 0\n",
    "    n = 0\n",
    "\n",
    "    for zz in zips_list:\n",
    "        try:\n",
    "            neighbor = income2012[income2012.ZIPCODE == zz]['MedianIncome'].tolist()[0]\n",
    "            total += neighbor\n",
    "            n += 1\n",
    "        except:\n",
    "            pass\n",
    "    \n",
    "    avg = round(total/n,2)\n",
    "    \n",
    "    return avg\n",
    "\n",
    "# Calculate average of adjacent areas income\n",
    "income2012['MedianIncomeAdj'] = income2012['adjacentZIP'].map(neighbor_avg2012)"
   ]
  },
  {
   "cell_type": "code",
   "execution_count": 15,
   "metadata": {},
   "outputs": [
    {
     "name": "stderr",
     "output_type": "stream",
     "text": [
      "/Applications/anaconda/envs/python3/lib/python3.5/site-packages/ipykernel/__main__.py:19: SettingWithCopyWarning: \n",
      "A value is trying to be set on a copy of a slice from a DataFrame.\n",
      "Try using .loc[row_indexer,col_indexer] = value instead\n",
      "\n",
      "See the caveats in the documentation: http://pandas.pydata.org/pandas-docs/stable/indexing.html#indexing-view-versus-copy\n"
     ]
    }
   ],
   "source": [
    "def neighbor_avg2013(zips):\n",
    "    zips_list = [int(z) for z in zips.split(\",\")]\n",
    "    total = 0\n",
    "    n = 0\n",
    "\n",
    "    for zz in zips_list:\n",
    "        try:\n",
    "            neighbor = income2013[income2013.ZIPCODE == zz]['MedianIncome'].tolist()[0]\n",
    "            total += neighbor\n",
    "            n += 1\n",
    "        except:\n",
    "            pass\n",
    "    \n",
    "    avg = round(total/n,2)\n",
    "    \n",
    "    return avg\n",
    "\n",
    "# Calculate average of adjacent areas income\n",
    "income2013['MedianIncomeAdj'] = income2013['adjacentZIP'].map(neighbor_avg2013)"
   ]
  },
  {
   "cell_type": "code",
   "execution_count": 16,
   "metadata": {},
   "outputs": [
    {
     "name": "stderr",
     "output_type": "stream",
     "text": [
      "/Applications/anaconda/envs/python3/lib/python3.5/site-packages/ipykernel/__main__.py:19: SettingWithCopyWarning: \n",
      "A value is trying to be set on a copy of a slice from a DataFrame.\n",
      "Try using .loc[row_indexer,col_indexer] = value instead\n",
      "\n",
      "See the caveats in the documentation: http://pandas.pydata.org/pandas-docs/stable/indexing.html#indexing-view-versus-copy\n"
     ]
    }
   ],
   "source": [
    "def neighbor_avg2014(zips):\n",
    "    zips_list = [int(z) for z in zips.split(\",\")]\n",
    "    total = 0\n",
    "    n = 0\n",
    "\n",
    "    for zz in zips_list:\n",
    "        try:\n",
    "            neighbor = income2014[income2014.ZIPCODE == zz]['MedianIncome'].tolist()[0]\n",
    "            total += neighbor\n",
    "            n += 1\n",
    "        except:\n",
    "            pass\n",
    "    \n",
    "    avg = round(total/n,2)\n",
    "    \n",
    "    return avg\n",
    "\n",
    "# Calculate average of adjacent areas income\n",
    "income2014['MedianIncomeAdj'] = income2014['adjacentZIP'].map(neighbor_avg2014)"
   ]
  },
  {
   "cell_type": "code",
   "execution_count": 17,
   "metadata": {},
   "outputs": [
    {
     "name": "stderr",
     "output_type": "stream",
     "text": [
      "/Applications/anaconda/envs/python3/lib/python3.5/site-packages/ipykernel/__main__.py:19: SettingWithCopyWarning: \n",
      "A value is trying to be set on a copy of a slice from a DataFrame.\n",
      "Try using .loc[row_indexer,col_indexer] = value instead\n",
      "\n",
      "See the caveats in the documentation: http://pandas.pydata.org/pandas-docs/stable/indexing.html#indexing-view-versus-copy\n"
     ]
    }
   ],
   "source": [
    "def neighbor_avg2015(zips):\n",
    "    zips_list = [int(z) for z in zips.split(\",\")]\n",
    "    total = 0\n",
    "    n = 0\n",
    "\n",
    "    for zz in zips_list:\n",
    "        try:\n",
    "            neighbor = income2015[income2015.ZIPCODE == zz]['MedianIncome'].tolist()[0]\n",
    "            total += neighbor\n",
    "            n += 1\n",
    "        except:\n",
    "            pass\n",
    "    \n",
    "    avg = round(total/n,2)\n",
    "    \n",
    "    return avg\n",
    "\n",
    "# Calculate average of adjacent areas income\n",
    "income2015['MedianIncomeAdj'] = income2015['adjacentZIP'].map(neighbor_avg2015)"
   ]
  },
  {
   "cell_type": "markdown",
   "metadata": {},
   "source": [
    "# Income Prediction Random Forest Regressor"
   ]
  },
  {
   "cell_type": "code",
   "execution_count": 18,
   "metadata": {
    "collapsed": true
   },
   "outputs": [],
   "source": [
    "from sklearn.tree import DecisionTreeRegressor\n",
    "from sklearn.ensemble import RandomForestRegressor\n",
    "from sklearn.ensemble import GradientBoostingRegressor\n",
    "from sklearn.linear_model import LinearRegression\n",
    "from sklearn.metrics import mean_squared_error\n",
    "from sklearn.metrics import r2_score"
   ]
  },
  {
   "cell_type": "markdown",
   "metadata": {},
   "source": [
    "#### A) Data pre-processing"
   ]
  },
  {
   "cell_type": "markdown",
   "metadata": {},
   "source": [
    "NOT USED  \n",
    "Year\tAWI\tIncrease (from previous year)  \n",
    "2015\t48,098.63\t3.48%  \n",
    "2014\t46,481.52\t3.55%  \n",
    "2013\t44,888.16\t1.28%  \n",
    "2012\t44,321.67\t3.12%  \n",
    "2011\t42,979.61\t3.13%  \n",
    "2010\t41,673.83\t2.36%  "
   ]
  },
  {
   "cell_type": "code",
   "execution_count": 28,
   "metadata": {
    "collapsed": true
   },
   "outputs": [],
   "source": [
    "# Remove the wage increase with reference year 2011\n",
    "\n",
    "#income2011['MedianIncomeDisc'] = income2011['MedianIncome']\n",
    "#income2012['MedianIncomeDisc'] = income2012['MedianIncome'] / (1.0312)\n",
    "#income2013['MedianIncomeDisc'] = income2013['MedianIncome'] / ((1.0312)*(1.0128))\n",
    "#income2014['MedianIncomeDisc'] = income2014['MedianIncome'] / ((1.0312)*(1.0128)*(1.0355))\n",
    "#income2015['MedianIncomeDisc'] = income2015['MedianIncome'] / ((1.0312)*(1.0128)*(1.0355)*(1.0348))"
   ]
  },
  {
   "cell_type": "code",
   "execution_count": 20,
   "metadata": {},
   "outputs": [
    {
     "name": "stderr",
     "output_type": "stream",
     "text": [
      "/Applications/anaconda/envs/python3/lib/python3.5/site-packages/ipykernel/__main__.py:3: SettingWithCopyWarning: \n",
      "A value is trying to be set on a copy of a slice from a DataFrame.\n",
      "Try using .loc[row_indexer,col_indexer] = value instead\n",
      "\n",
      "See the caveats in the documentation: http://pandas.pydata.org/pandas-docs/stable/indexing.html#indexing-view-versus-copy\n",
      "  app.launch_new_instance()\n",
      "/Applications/anaconda/envs/python3/lib/python3.5/site-packages/ipykernel/__main__.py:4: SettingWithCopyWarning: \n",
      "A value is trying to be set on a copy of a slice from a DataFrame.\n",
      "Try using .loc[row_indexer,col_indexer] = value instead\n",
      "\n",
      "See the caveats in the documentation: http://pandas.pydata.org/pandas-docs/stable/indexing.html#indexing-view-versus-copy\n",
      "/Applications/anaconda/envs/python3/lib/python3.5/site-packages/ipykernel/__main__.py:5: SettingWithCopyWarning: \n",
      "A value is trying to be set on a copy of a slice from a DataFrame.\n",
      "Try using .loc[row_indexer,col_indexer] = value instead\n",
      "\n",
      "See the caveats in the documentation: http://pandas.pydata.org/pandas-docs/stable/indexing.html#indexing-view-versus-copy\n"
     ]
    }
   ],
   "source": [
    "# Prediciton of income at t+2 - create output variable income t+2\n",
    "\n",
    "income2011['MedianIncome_in2yrs'] = income2013['MedianIncome'].values\n",
    "income2012['MedianIncome_in2yrs'] = income2014['MedianIncome'].values\n",
    "income2013['MedianIncome_in2yrs'] = income2015['MedianIncome'].values"
   ]
  },
  {
   "cell_type": "code",
   "execution_count": 29,
   "metadata": {
    "collapsed": true
   },
   "outputs": [],
   "source": [
    "# Create dataset for ML training\n",
    "\n",
    "X = income2011.append([income2012, income2013])"
   ]
  },
  {
   "cell_type": "code",
   "execution_count": 30,
   "metadata": {},
   "outputs": [
    {
     "data": {
      "text/plain": [
       "Index(['ZIPCODE', 'Year', '% Employed', 'Bordering Water',\n",
       "       'Number of Subway Lines Serving ZIP', 'Number of Parks',\n",
       "       'Number of Playgrounds', 'Park Acreage', 'MedianIncome',\n",
       "       'MedianIncomeAdj', 'MedianIncome_in2yrs'],\n",
       "      dtype='object')"
      ]
     },
     "execution_count": 30,
     "metadata": {},
     "output_type": "execute_result"
    }
   ],
   "source": [
    "# Extra data processing\n",
    "\n",
    "def yesno(x):\n",
    "    if x == \"Y\":\n",
    "        return 1\n",
    "    else:\n",
    "        return 0\n",
    "\n",
    "X['% Employed'] = X['% Employed'].map(formatpercent)\n",
    "X['Bordering Water'] = X['Bordering Water'].map(yesno)\n",
    "X['Number of Subway Lines Serving ZIP'].fillna(0, inplace=True)\n",
    "\n",
    "not_features = ['Borough', 'Neighborhood','LandSqMile', 'Latitude',\n",
    "       'Longitude','Median HH Income ($)',\n",
    "       'Mean HH Income ($)', 'Median Home Value ($/sq. foot)',\n",
    "       '% Unemployed', '% Not in Labor Force',\n",
    "       'Number of Subway Stations in ZIP', 'Stops in ZIP','Lines Serving ZIP',\n",
    "       'adjacentZIP','HomeValue']\n",
    "\n",
    "for notf in not_features:\n",
    "    del X[notf]\n",
    "    \n",
    "X.columns"
   ]
  },
  {
   "cell_type": "code",
   "execution_count": 31,
   "metadata": {
    "collapsed": true
   },
   "outputs": [],
   "source": [
    "# Shuffle data\n",
    "X = X.sample(frac=1, random_state=0).reset_index(drop=True)\n",
    "\n",
    "# Create labels\n",
    "Y = [i for i in X.MedianIncome_in2yrs]\n",
    "Year = [i for i in X.Year]\n",
    "ZIP = [i for i in X.ZIPCODE]\n",
    "\n",
    "# Drop labels from input data\n",
    "X.drop('MedianIncome_in2yrs', axis=1, inplace=True)\n",
    "X.drop('Year', axis=1, inplace=True)\n",
    "X.drop('ZIPCODE', axis=1, inplace=True)\n",
    "\n",
    "n = int(X.shape[0] * 4/5)\n",
    "X_train = X[:n]\n",
    "Y_train = Y[:n]\n",
    "Year_train = Year[:n]\n",
    "ZIP_train = ZIP[:n]\n",
    "X_test = X[n:]\n",
    "Y_test = Y[n:]\n",
    "Year_test = Year[n:]\n",
    "ZIP_test = ZIP[n:]"
   ]
  },
  {
   "cell_type": "code",
   "execution_count": 32,
   "metadata": {},
   "outputs": [
    {
     "name": "stdout",
     "output_type": "stream",
     "text": [
      "(420, 8)\n",
      "420\n",
      "420\n"
     ]
    }
   ],
   "source": [
    "print(X_train.shape)\n",
    "print(len(Y_train))\n",
    "print(len(Year_train))"
   ]
  },
  {
   "cell_type": "markdown",
   "metadata": {},
   "source": [
    "### B) ML algorithms"
   ]
  },
  {
   "cell_type": "markdown",
   "metadata": {},
   "source": [
    "#### B0 - Baseline"
   ]
  },
  {
   "cell_type": "code",
   "execution_count": 33,
   "metadata": {},
   "outputs": [
    {
     "name": "stdout",
     "output_type": "stream",
     "text": [
      "Mean squared error: 21918461.30\n",
      "Mean absolute percentage error: 4.35415051021\n",
      "Variance score: 0.974282\n"
     ]
    }
   ],
   "source": [
    "# Baseline - predicted t+2 = income at t\n",
    "Y1 = np.array(X_test['MedianIncome'].tolist())  # pred\n",
    "Y2 = Y_test  # actual\n",
    "\n",
    "# The mean squared error\n",
    "print(\"Mean squared error: %.2f\" % mean_squared_error(Y2, Y1))\n",
    "\n",
    "\n",
    "# The MAPE (mean absolute percentage error)\n",
    "print(\"Mean absolute percentage error:\", np.mean(np.abs((Y2 - Y1) / Y2)) * 100)\n",
    "\n",
    "\n",
    "# Explained variance score: 1 is perfect prediction (goodness of fit measures same are .score method)\n",
    "print('Variance score: %.6f' % r2_score(Y2, Y1))"
   ]
  },
  {
   "cell_type": "markdown",
   "metadata": {},
   "source": [
    "#### B1 - Random Forest"
   ]
  },
  {
   "cell_type": "code",
   "execution_count": 34,
   "metadata": {},
   "outputs": [
    {
     "name": "stdout",
     "output_type": "stream",
     "text": [
      "Best feature is 0\n",
      "Performance is  0.999124783355\n",
      "Mean squared error: 13798533.02\n",
      "Mean absolute percentage error: 3.60257068705\n",
      "Variance score: 0.983809\n"
     ]
    }
   ],
   "source": [
    "# 1. Random Forest Regression\n",
    "\n",
    "rf = RandomForestRegressor(n_estimators=500, criterion='mse', max_depth=8, random_state=0) # mse: mean squared error, \n",
    "                                                         # classes= 2^max_depth = 256 vs 174 zips?\n",
    "rf.fit(X_train,Y_train)\n",
    "print('Best feature is ' + str(np.where(rf.feature_importances_)[0][0]))\n",
    "preds_rf = rf.predict(X_test)\n",
    "\n",
    "performance = 1 - abs(np.mean(preds_rf - Y_test)) / (max(Y) - min(Y))\n",
    "print('Performance is ', performance)\n",
    "\n",
    "\n",
    "# The mean squared error\n",
    "print(\"Mean squared error: %.2f\" % mean_squared_error(Y_test, preds_rf))\n",
    "\n",
    "# The MAPE (mean absolute percentage error)\n",
    "print(\"Mean absolute percentage error:\", np.mean(np.abs((Y_test - preds_rf) / Y_test)) * 100)\n",
    "\n",
    "# Explained variance score: 1 is perfect prediction (goodness of fit measures same are .score method)\n",
    "print('Variance score: %.6f' % r2_score(Y_test, preds_rf))"
   ]
  },
  {
   "cell_type": "code",
   "execution_count": 35,
   "metadata": {},
   "outputs": [
    {
     "name": "stdout",
     "output_type": "stream",
     "text": [
      "Index(['% Employed', 'Bordering Water', 'Number of Subway Lines Serving ZIP',\n",
      "       'Number of Parks', 'Number of Playgrounds', 'Park Acreage',\n",
      "       'MedianIncome', 'MedianIncomeAdj'],\n",
      "      dtype='object')\n",
      "[  5.65640519e-03   2.37826934e-04   5.29525367e-03   1.34487097e-03\n",
      "   3.51605908e-04   2.34407125e-03   9.76907985e-01   7.86198076e-03]\n"
     ]
    }
   ],
   "source": [
    "print(X_train.columns)\n",
    "print(rf.feature_importances_)"
   ]
  },
  {
   "cell_type": "code",
   "execution_count": 36,
   "metadata": {
    "collapsed": true
   },
   "outputs": [],
   "source": [
    "results = np.vstack((Year_test, ZIP_test, Y_test, preds_rf))\n",
    "np.savetxt(\"RF_noAWIadj.csv\", results, delimiter=\",\")"
   ]
  },
  {
   "cell_type": "markdown",
   "metadata": {},
   "source": [
    "#### B2 - Linear Regression"
   ]
  },
  {
   "cell_type": "code",
   "execution_count": 37,
   "metadata": {},
   "outputs": [
    {
     "name": "stdout",
     "output_type": "stream",
     "text": [
      "Index(['% Employed', 'Bordering Water', 'Number of Subway Lines Serving ZIP',\n",
      "       'Number of Parks', 'Number of Playgrounds', 'Park Acreage',\n",
      "       'MedianIncome', 'MedianIncomeAdj'],\n",
      "      dtype='object')\n",
      "Intercept: \n",
      " 354.292271095\n",
      "Coefficients: \n",
      " [ -4.96177165e+01  -9.56199478e-01   7.07060725e+02  -2.46576580e+01\n",
      "  -1.81356170e+02  -1.58989341e-03   1.04909522e+00   4.56363423e-03]\n",
      "\n",
      "Mean squared error: 12675394.00\n",
      "Mean absolute percentage error: 4.08103688296\n",
      "Variance score: 0.985127\n"
     ]
    }
   ],
   "source": [
    "# 2. Linear Regression\n",
    "\n",
    "lr = LinearRegression()\n",
    "lr.fit(X_train, Y_train)\n",
    "\n",
    "preds_lr = lr.predict(X_test)\n",
    "\n",
    "\n",
    "# The coefficients\n",
    "print(X_train.columns)\n",
    "print('Intercept: \\n', lr.intercept_)\n",
    "print('Coefficients: \\n', lr.coef_)\n",
    "print(\"\")\n",
    "\n",
    "# The mean squared error\n",
    "print(\"Mean squared error: %.2f\" % mean_squared_error(Y_test, preds_lr))\n",
    "\n",
    "# The MAPE (mean absolute percentage error)\n",
    "print(\"Mean absolute percentage error:\", np.mean(np.abs((Y_test - preds_lr) / Y_test)) * 100)\n",
    "\n",
    "# Explained variance score: 1 is perfect prediction (goodness of fit measures same are .score method)\n",
    "print('Variance score: %.6f' % r2_score(Y_test, preds_lr))"
   ]
  },
  {
   "cell_type": "code",
   "execution_count": null,
   "metadata": {
    "collapsed": true
   },
   "outputs": [],
   "source": []
  }
 ],
 "metadata": {
  "kernelspec": {
   "display_name": "Python [python3]",
   "language": "python",
   "name": "Python [python3]"
  },
  "language_info": {
   "codemirror_mode": {
    "name": "ipython",
    "version": 3
   },
   "file_extension": ".py",
   "mimetype": "text/x-python",
   "name": "python",
   "nbconvert_exporter": "python",
   "pygments_lexer": "ipython3",
   "version": "3.5.2"
  }
 },
 "nbformat": 4,
 "nbformat_minor": 2
}
