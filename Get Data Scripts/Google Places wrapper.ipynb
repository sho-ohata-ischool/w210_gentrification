{
 "cells": [
  {
   "cell_type": "code",
   "execution_count": 66,
   "metadata": {},
   "outputs": [],
   "source": [
    "import requests\n",
    "import re\n",
    "import json\n",
    "from time import sleep\n",
    "\n",
    "## Get Google Places API Key https://developers.google.com/places/web-service/get-api-key\n",
    "api_key = ''\n",
    "\n",
    "class StopAssignments(Exception): pass\n",
    "\n",
    "def get_google_results(r):\n",
    "    output = {}\n",
    "    if r.status_code == 200:\n",
    "        if r.json()['status'] == 'OK':\n",
    "            for x in range(len(r.json()['results'])):\n",
    "                results = r.json()['results'][x]\n",
    "                output[results['place_id']] = {\n",
    "                    'formatted_address': results['formatted_address'],\n",
    "                    'name': results['name'],\n",
    "                    'loc_type': results['types'],\n",
    "                    'lat': results['geometry']['location']['lat'],\n",
    "                    'lon': results['geometry']['location']['lng']                                      \n",
    "                }\n",
    "            return output\n",
    "\n",
    "        elif r.json()['status'] == 'ZERO_RESULTS':\n",
    "            return output\n",
    "            print (r.json()['status'])\n",
    "            raise StopAssignments\n",
    "        elif r.json()['status'] == 'OVER_QUERY_LIMIT':\n",
    "            return output\n",
    "            print (r.json()['status'])\n",
    "            raise StopAssignments\n",
    "        else:\n",
    "             raise StopAssignments\n",
    "    else:\n",
    "        raise StopAssignments\n",
    "\n",
    "## Helper function to go to next page of google places search results\n",
    "def google_places_next_page(next_page_token, api_key):\n",
    "    web_call_string = 'https://maps.googleapis.com/maps/api/place/textsearch/json?pagetoken=%s&key=%s' %(next_page_token, api_key)\n",
    "    sleep(3) # Time in seconds. There is a time lag between when the next page token is issued and when it is ready\n",
    "    r = requests.get(web_call_string)\n",
    "    return r\n",
    "\n",
    "## Helper function to get data from Google Places\n",
    "def google_places_call(zip_code, city, keyword, api_key): ## city should be passed as \"New York, NY\" for NYC\n",
    "    \n",
    "    text_string = '%s+near+%s+%s' %(re.sub(' ', '+', keyword), str(zip_code), re.sub(' ', '+', city))\n",
    "    web_call_string = 'https://maps.googleapis.com/maps/api/place/textsearch/json?query=%s&key=%s' %(text_string,api_key)\n",
    "    r = requests.get(web_call_string)\n",
    "    output = get_google_results(r)\n",
    "\n",
    "    while 'next_page_token' in r.json().keys():\n",
    "        r = google_places_next_page(r.json()['next_page_token'], api_key)\n",
    "        new_output = get_google_results(r)\n",
    "        output = dict(list(output.items()) + list(new_output.items()))\n",
    "    \n",
    "    return output"
   ]
  },
  {
   "cell_type": "code",
   "execution_count": 67,
   "metadata": {},
   "outputs": [],
   "source": [
    "## Usage - pass zip code, city and key word along with api key\n",
    "test = google_places_call(11104, 'New York, NY', 'coffee shops', api_key)"
   ]
  },
  {
   "cell_type": "code",
   "execution_count": 72,
   "metadata": {},
   "outputs": [
    {
     "data": {
      "text/plain": [
       "{'formatted_address': '40-07 Queens Blvd, Sunnyside, NY 11104, United States',\n",
       " 'lat': 40.7441065,\n",
       " 'loc_type': ['cafe', 'food', 'store', 'point_of_interest', 'establishment'],\n",
       " 'lon': -73.9237985,\n",
       " 'name': \"Baruir's Coffee\"}"
      ]
     },
     "execution_count": 72,
     "metadata": {},
     "output_type": "execute_result"
    }
   ],
   "source": [
    "## The results will be a JSON with the key being the Google Places unique place id\n",
    "test['ChIJvUuF1NlewokRzEqqGWT2ATY']"
   ]
  }
 ],
 "metadata": {
  "kernelspec": {
   "display_name": "Python [conda env:py36]",
   "language": "python",
   "name": "conda-env-py36-py"
  },
  "language_info": {
   "codemirror_mode": {
    "name": "ipython",
    "version": 3
   },
   "file_extension": ".py",
   "mimetype": "text/x-python",
   "name": "python",
   "nbconvert_exporter": "python",
   "pygments_lexer": "ipython3",
   "version": "3.6.1"
  }
 },
 "nbformat": 4,
 "nbformat_minor": 2
}
