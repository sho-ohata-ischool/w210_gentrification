{
 "cells": [
  {
   "cell_type": "markdown",
   "metadata": {},
   "source": [
    "# Preprocess Permits Data for Visualization Data Files"
   ]
  },
  {
   "cell_type": "markdown",
   "metadata": {},
   "source": [
    "Create csv files for each year, count of each permit types grouped by latitude and longitude coordinates"
   ]
  },
  {
   "cell_type": "code",
   "execution_count": 1,
   "metadata": {
    "collapsed": true
   },
   "outputs": [],
   "source": [
    "%matplotlib inline\n",
    "import matplotlib.pyplot as plt\n",
    "import pandas as pd\n",
    "import numpy as np\n",
    "import seaborn as sns"
   ]
  },
  {
   "cell_type": "code",
   "execution_count": 2,
   "metadata": {},
   "outputs": [
    {
     "name": "stderr",
     "output_type": "stream",
     "text": [
      "/Applications/anaconda/envs/python3/lib/python3.5/site-packages/IPython/core/interactiveshell.py:2723: DtypeWarning: Columns (1,8,9,10,15,20,28) have mixed types. Specify dtype option on import or set low_memory=False.\n",
      "  interactivity=interactivity, compiler=compiler, result=result)\n"
     ]
    }
   ],
   "source": [
    "permits = pd.read_csv('DOB_Permit_cleaned.csv', encoding= \"ISO-8859-1\")"
   ]
  },
  {
   "cell_type": "code",
   "execution_count": 3,
   "metadata": {},
   "outputs": [
    {
     "data": {
      "text/html": [
       "<div>\n",
       "<table border=\"1\" class=\"dataframe\">\n",
       "  <thead>\n",
       "    <tr style=\"text-align: right;\">\n",
       "      <th></th>\n",
       "      <th>BOROUGH</th>\n",
       "      <th>Bin #</th>\n",
       "      <th>House #</th>\n",
       "      <th>Street Name</th>\n",
       "      <th>Job #</th>\n",
       "      <th>Job doc. #</th>\n",
       "      <th>Job Type</th>\n",
       "      <th>Self_Cert</th>\n",
       "      <th>Block</th>\n",
       "      <th>Lot</th>\n",
       "      <th>...</th>\n",
       "      <th>Filing Date</th>\n",
       "      <th>Issuance Date</th>\n",
       "      <th>Expiration Date</th>\n",
       "      <th>Job Start Date</th>\n",
       "      <th>PERMIT_SI_NO</th>\n",
       "      <th>LATITUDE</th>\n",
       "      <th>LONGITUDE</th>\n",
       "      <th>COUNCIL_DISTRICT</th>\n",
       "      <th>CENSUS_TRACT</th>\n",
       "      <th>NTA_NAME</th>\n",
       "    </tr>\n",
       "  </thead>\n",
       "  <tbody>\n",
       "    <tr>\n",
       "      <th>0</th>\n",
       "      <td>BROOKLYN</td>\n",
       "      <td>3326733</td>\n",
       "      <td>1070</td>\n",
       "      <td>EAST  104 STREET</td>\n",
       "      <td>301064023</td>\n",
       "      <td>1</td>\n",
       "      <td>A2</td>\n",
       "      <td>Y</td>\n",
       "      <td>8230</td>\n",
       "      <td>1</td>\n",
       "      <td>...</td>\n",
       "      <td>09/16/2002</td>\n",
       "      <td>09/16/2002 12:00:00 AM</td>\n",
       "      <td>09/16/2003</td>\n",
       "      <td>07/27/2000</td>\n",
       "      <td>1238812</td>\n",
       "      <td>40.644203</td>\n",
       "      <td>-73.892264</td>\n",
       "      <td>46.0</td>\n",
       "      <td>986.0</td>\n",
       "      <td>Canarsie</td>\n",
       "    </tr>\n",
       "    <tr>\n",
       "      <th>1</th>\n",
       "      <td>BROOKLYN</td>\n",
       "      <td>3322563</td>\n",
       "      <td>230</td>\n",
       "      <td>HANCOCK STREET</td>\n",
       "      <td>302036375</td>\n",
       "      <td>1</td>\n",
       "      <td>A1</td>\n",
       "      <td>Y</td>\n",
       "      <td>1838</td>\n",
       "      <td>43</td>\n",
       "      <td>...</td>\n",
       "      <td>12/07/2012</td>\n",
       "      <td>12/28/2012 12:00:00 AM</td>\n",
       "      <td>11/27/2013</td>\n",
       "      <td>01/26/2006</td>\n",
       "      <td>2471045</td>\n",
       "      <td>40.682849</td>\n",
       "      <td>-73.947219</td>\n",
       "      <td>36.0</td>\n",
       "      <td>249.0</td>\n",
       "      <td>Bedford</td>\n",
       "    </tr>\n",
       "    <tr>\n",
       "      <th>2</th>\n",
       "      <td>MANHATTAN</td>\n",
       "      <td>1040756</td>\n",
       "      <td>504</td>\n",
       "      <td>PARK AVENUE</td>\n",
       "      <td>100209846</td>\n",
       "      <td>1</td>\n",
       "      <td>A3</td>\n",
       "      <td>NaN</td>\n",
       "      <td>1374</td>\n",
       "      <td>36</td>\n",
       "      <td>...</td>\n",
       "      <td>11/27/1991</td>\n",
       "      <td>11/27/1991 12:00:00 AM</td>\n",
       "      <td>10/01/1992</td>\n",
       "      <td>11/27/1991</td>\n",
       "      <td>191966</td>\n",
       "      <td>40.763075</td>\n",
       "      <td>-73.969695</td>\n",
       "      <td>4.0</td>\n",
       "      <td>11401.0</td>\n",
       "      <td>Upper East Side-Carnegie Hill</td>\n",
       "    </tr>\n",
       "    <tr>\n",
       "      <th>3</th>\n",
       "      <td>MANHATTAN</td>\n",
       "      <td>1036459</td>\n",
       "      <td>570</td>\n",
       "      <td>LEXINGTON AVENUE</td>\n",
       "      <td>101464835</td>\n",
       "      <td>1</td>\n",
       "      <td>A2</td>\n",
       "      <td>NaN</td>\n",
       "      <td>1305</td>\n",
       "      <td>60</td>\n",
       "      <td>...</td>\n",
       "      <td>03/24/1997</td>\n",
       "      <td>03/24/1997 12:00:00 AM</td>\n",
       "      <td>07/01/1997</td>\n",
       "      <td>03/24/1997</td>\n",
       "      <td>679627</td>\n",
       "      <td>40.756925</td>\n",
       "      <td>-73.972066</td>\n",
       "      <td>4.0</td>\n",
       "      <td>100.0</td>\n",
       "      <td>Turtle Bay-East Midtown</td>\n",
       "    </tr>\n",
       "    <tr>\n",
       "      <th>4</th>\n",
       "      <td>MANHATTAN</td>\n",
       "      <td>1015847</td>\n",
       "      <td>25</td>\n",
       "      <td>W. 32 ST.</td>\n",
       "      <td>122488478</td>\n",
       "      <td>1</td>\n",
       "      <td>A2</td>\n",
       "      <td>Y</td>\n",
       "      <td>834</td>\n",
       "      <td>26</td>\n",
       "      <td>...</td>\n",
       "      <td>03/30/2016</td>\n",
       "      <td>03/30/2016 12:00:00 AM</td>\n",
       "      <td>03/30/2017</td>\n",
       "      <td>09/21/2015</td>\n",
       "      <td>3044504</td>\n",
       "      <td>40.747535</td>\n",
       "      <td>-73.986372</td>\n",
       "      <td>4.0</td>\n",
       "      <td>76.0</td>\n",
       "      <td>Midtown-Midtown South</td>\n",
       "    </tr>\n",
       "  </tbody>\n",
       "</table>\n",
       "<p>5 rows × 34 columns</p>\n",
       "</div>"
      ],
      "text/plain": [
       "     BOROUGH    Bin # House #       Street Name      Job #  Job doc. #  \\\n",
       "0   BROOKLYN  3326733    1070  EAST  104 STREET  301064023           1   \n",
       "1   BROOKLYN  3322563     230    HANCOCK STREET  302036375           1   \n",
       "2  MANHATTAN  1040756     504       PARK AVENUE  100209846           1   \n",
       "3  MANHATTAN  1036459     570  LEXINGTON AVENUE  101464835           1   \n",
       "4  MANHATTAN  1015847      25         W. 32 ST.  122488478           1   \n",
       "\n",
       "  Job Type Self_Cert Block Lot              ...               Filing Date  \\\n",
       "0       A2         Y  8230   1              ...                09/16/2002   \n",
       "1       A1         Y  1838  43              ...                12/07/2012   \n",
       "2       A3       NaN  1374  36              ...                11/27/1991   \n",
       "3       A2       NaN  1305  60              ...                03/24/1997   \n",
       "4       A2         Y   834  26              ...                03/30/2016   \n",
       "\n",
       "            Issuance Date  Expiration Date Job Start Date PERMIT_SI_NO  \\\n",
       "0  09/16/2002 12:00:00 AM       09/16/2003     07/27/2000      1238812   \n",
       "1  12/28/2012 12:00:00 AM       11/27/2013     01/26/2006      2471045   \n",
       "2  11/27/1991 12:00:00 AM       10/01/1992     11/27/1991       191966   \n",
       "3  03/24/1997 12:00:00 AM       07/01/1997     03/24/1997       679627   \n",
       "4  03/30/2016 12:00:00 AM       03/30/2017     09/21/2015      3044504   \n",
       "\n",
       "    LATITUDE  LONGITUDE COUNCIL_DISTRICT CENSUS_TRACT  \\\n",
       "0  40.644203 -73.892264             46.0        986.0   \n",
       "1  40.682849 -73.947219             36.0        249.0   \n",
       "2  40.763075 -73.969695              4.0      11401.0   \n",
       "3  40.756925 -73.972066              4.0        100.0   \n",
       "4  40.747535 -73.986372              4.0         76.0   \n",
       "\n",
       "                        NTA_NAME  \n",
       "0                       Canarsie  \n",
       "1                        Bedford  \n",
       "2  Upper East Side-Carnegie Hill  \n",
       "3        Turtle Bay-East Midtown  \n",
       "4          Midtown-Midtown South  \n",
       "\n",
       "[5 rows x 34 columns]"
      ]
     },
     "execution_count": 3,
     "metadata": {},
     "output_type": "execute_result"
    }
   ],
   "source": [
    "permits.head()"
   ]
  },
  {
   "cell_type": "code",
   "execution_count": 4,
   "metadata": {},
   "outputs": [
    {
     "data": {
      "text/plain": [
       "Index(['BOROUGH', 'Bin #', 'House #', 'Street Name', 'Job #', 'Job doc. #',\n",
       "       'Job Type', 'Self_Cert', 'Block', 'Lot', 'Community Board', 'Zip Code',\n",
       "       'Bldg Type', 'Residential', 'Special District 1', 'Special District 2',\n",
       "       'Work Type', 'Permit Status', 'Filing Status', 'Permit Type',\n",
       "       'Permit Sequence #', 'Permit Subtype', 'Oil Gas', 'Site Fill',\n",
       "       'Filing Date', 'Issuance Date', 'Expiration Date', 'Job Start Date',\n",
       "       'PERMIT_SI_NO', 'LATITUDE', 'LONGITUDE', 'COUNCIL_DISTRICT',\n",
       "       'CENSUS_TRACT', 'NTA_NAME'],\n",
       "      dtype='object')"
      ]
     },
     "execution_count": 4,
     "metadata": {},
     "output_type": "execute_result"
    }
   ],
   "source": [
    "permits.columns"
   ]
  },
  {
   "cell_type": "code",
   "execution_count": 5,
   "metadata": {
    "collapsed": true
   },
   "outputs": [],
   "source": [
    "column_names = ['BOROUGH', 'Bin #', 'House #', 'Street Name', 'Job #', 'Job doc. #',\n",
    "       'Job Type', 'Self_Cert', 'Block', 'Lot', 'Community Board', 'Zip Code',\n",
    "       'Bldg Type', 'Residential', 'Special District 1', 'Special District 2',\n",
    "       'Work Type', 'Permit Status', 'Filing Status', 'Permit Type',\n",
    "       'Permit Sequence #', 'Permit Subtype', 'Oil Gas', 'Site Fill',\n",
    "       'Filing Date', 'Issuance Date', 'Expiration Date', 'Job Start Date',\n",
    "       'PERMIT_SI_NO', 'LATITUDE', 'LONGITUDE', 'COUNCIL_DISTRICT',\n",
    "       'CENSUS_TRACT', 'NTA_NAME']"
   ]
  },
  {
   "cell_type": "markdown",
   "metadata": {
    "collapsed": true
   },
   "source": [
    "Old file\n",
    "column_names = ['Job #', 'Doc #', 'Borough', 'House #', 'Street Name', 'Block', 'Lot',\n",
    "       'Bin #', 'Job Type', 'Job Status', 'Job Status Descrp',\n",
    "       'Latest Action Date', 'Building Type', 'Community - Board',\n",
    "       'Landmarked', 'City Owned', 'Plumbing', 'Mechanical', 'Boiler',\n",
    "       'Fuel Burning', 'Fuel Storage', 'Standpipe', 'Sprinkler', 'Fire Alarm',\n",
    "       'Equipment', 'Fire Suppression', 'Curb Cut', 'Other',\n",
    "       'Other Description', 'Pre- Filing Date', 'Paid', 'Fully Paid',\n",
    "       'Assigned', 'Approved', 'Fully Permitted', 'Initial Cost',\n",
    "       'Total Est. Fee', 'Fee Status', 'Existing Zoning Sqft',\n",
    "       'Proposed Zoning Sqft', 'Horizontal Enlrgmt', 'Vertical Enlrgmt',\n",
    "       'Enlargement SQ Footage', 'Street Frontage', 'ExistingNo. of Stories',\n",
    "       'Proposed No. of Stories', 'Existing Height', 'Proposed Height',\n",
    "       'Existing Dwelling Units', 'Proposed Dwelling Units',\n",
    "       'Existing Occupancy', 'Proposed Occupancy', 'Site Fill', 'Zoning Dist1',\n",
    "       'Zoning Dist2', 'Zoning Dist3', 'Special District 1',\n",
    "       'Special District 2', 'Non-Profit', 'Job Description', 'Full Address',\n",
    "       'formatted_address', 'name', 'loc_type', 'lat', 'lon', 'Zip Code']"
   ]
  },
  {
   "cell_type": "code",
   "execution_count": 6,
   "metadata": {
    "collapsed": true
   },
   "outputs": [],
   "source": [
    "permits = permits[['Job Type','Filing Date','LATITUDE', 'LONGITUDE', 'Zip Code']]"
   ]
  },
  {
   "cell_type": "code",
   "execution_count": 7,
   "metadata": {},
   "outputs": [
    {
     "data": {
      "text/plain": [
       "Index(['Job Type', 'Filing Date', 'LATITUDE', 'LONGITUDE', 'Zip Code'], dtype='object')"
      ]
     },
     "execution_count": 7,
     "metadata": {},
     "output_type": "execute_result"
    }
   ],
   "source": [
    "permits.columns"
   ]
  },
  {
   "cell_type": "code",
   "execution_count": 8,
   "metadata": {},
   "outputs": [
    {
     "data": {
      "text/plain": [
       "str"
      ]
     },
     "execution_count": 8,
     "metadata": {},
     "output_type": "execute_result"
    }
   ],
   "source": [
    "type(permits[\"Filing Date\"][0])"
   ]
  },
  {
   "cell_type": "code",
   "execution_count": 9,
   "metadata": {},
   "outputs": [],
   "source": [
    "permits['date'] = pd.to_datetime(permits[\"Filing Date\"])"
   ]
  },
  {
   "cell_type": "code",
   "execution_count": 10,
   "metadata": {},
   "outputs": [],
   "source": [
    "permits['year'] = permits['date'].dt.year"
   ]
  },
  {
   "cell_type": "code",
   "execution_count": 11,
   "metadata": {},
   "outputs": [
    {
     "data": {
      "text/plain": [
       "year\n",
       "1989      3061\n",
       "1990     23764\n",
       "1991     45838\n",
       "1992     52598\n",
       "1993     58067\n",
       "1994     60854\n",
       "1995     63323\n",
       "1996     67660\n",
       "1997     71903\n",
       "1998     82860\n",
       "1999     92236\n",
       "2000    101540\n",
       "2001    106225\n",
       "2002    113572\n",
       "2003    124076\n",
       "2004    138799\n",
       "2005    151005\n",
       "2006    156591\n",
       "2007    159860\n",
       "2008    151917\n",
       "2009    136495\n",
       "2010    137018\n",
       "2011    144472\n",
       "2012    149514\n",
       "2013    162037\n",
       "2014    171738\n",
       "2015    183527\n",
       "2016    192048\n",
       "2017    178203\n",
       "Name: year, dtype: int64"
      ]
     },
     "execution_count": 11,
     "metadata": {},
     "output_type": "execute_result"
    }
   ],
   "source": [
    "permits.groupby('year').year.count()"
   ]
  },
  {
   "cell_type": "code",
   "execution_count": 24,
   "metadata": {
    "collapsed": true
   },
   "outputs": [],
   "source": [
    "# From above, full year from 2005 to 2016"
   ]
  },
  {
   "cell_type": "code",
   "execution_count": 12,
   "metadata": {
    "collapsed": true
   },
   "outputs": [],
   "source": [
    "permits = permits[permits['year'] >=2005]"
   ]
  },
  {
   "cell_type": "code",
   "execution_count": 20,
   "metadata": {},
   "outputs": [
    {
     "data": {
      "text/plain": [
       "Job Type\n",
       "10          1\n",
       "20          1\n",
       "30          1\n",
       "41          1\n",
       "50          1\n",
       "A1     206432\n",
       "A2    1228650\n",
       "A3     261246\n",
       "DM      52011\n",
       "NB     283893\n",
       "SG      42188\n",
       "Name: year, dtype: int64"
      ]
     },
     "execution_count": 20,
     "metadata": {},
     "output_type": "execute_result"
    }
   ],
   "source": [
    "permits.groupby('Job Type').year.count()"
   ]
  },
  {
   "cell_type": "code",
   "execution_count": 22,
   "metadata": {},
   "outputs": [],
   "source": [
    "permits = permits[(permits['Job Type'] == 'A1') | \n",
    "                  (permits['Job Type'] == 'A2') | \n",
    "                  (permits['Job Type'] == 'DM') | \n",
    "                  (permits['Job Type'] == 'NB')]"
   ]
  },
  {
   "cell_type": "code",
   "execution_count": 23,
   "metadata": {
    "collapsed": true
   },
   "outputs": [],
   "source": [
    "permits_count = permits.groupby(['year','Job Type', 'Zip Code', 'LATITUDE','LONGITUDE'])['date'].count().reset_index()"
   ]
  },
  {
   "cell_type": "code",
   "execution_count": 24,
   "metadata": {},
   "outputs": [
    {
     "data": {
      "text/html": [
       "<div>\n",
       "<table border=\"1\" class=\"dataframe\">\n",
       "  <thead>\n",
       "    <tr style=\"text-align: right;\">\n",
       "      <th></th>\n",
       "      <th>year</th>\n",
       "      <th>Job Type</th>\n",
       "      <th>Zip Code</th>\n",
       "      <th>LATITUDE</th>\n",
       "      <th>LONGITUDE</th>\n",
       "      <th>date</th>\n",
       "    </tr>\n",
       "  </thead>\n",
       "  <tbody>\n",
       "    <tr>\n",
       "      <th>0</th>\n",
       "      <td>2005</td>\n",
       "      <td>A1</td>\n",
       "      <td>10001.0</td>\n",
       "      <td>40.743918</td>\n",
       "      <td>-73.987867</td>\n",
       "      <td>3</td>\n",
       "    </tr>\n",
       "    <tr>\n",
       "      <th>1</th>\n",
       "      <td>2005</td>\n",
       "      <td>A1</td>\n",
       "      <td>10001.0</td>\n",
       "      <td>40.744802</td>\n",
       "      <td>-73.993302</td>\n",
       "      <td>1</td>\n",
       "    </tr>\n",
       "    <tr>\n",
       "      <th>2</th>\n",
       "      <td>2005</td>\n",
       "      <td>A1</td>\n",
       "      <td>10001.0</td>\n",
       "      <td>40.744805</td>\n",
       "      <td>-73.993352</td>\n",
       "      <td>1</td>\n",
       "    </tr>\n",
       "    <tr>\n",
       "      <th>3</th>\n",
       "      <td>2005</td>\n",
       "      <td>A1</td>\n",
       "      <td>10001.0</td>\n",
       "      <td>40.745060</td>\n",
       "      <td>-73.992053</td>\n",
       "      <td>1</td>\n",
       "    </tr>\n",
       "    <tr>\n",
       "      <th>4</th>\n",
       "      <td>2005</td>\n",
       "      <td>A1</td>\n",
       "      <td>10001.0</td>\n",
       "      <td>40.745112</td>\n",
       "      <td>-73.994919</td>\n",
       "      <td>1</td>\n",
       "    </tr>\n",
       "  </tbody>\n",
       "</table>\n",
       "</div>"
      ],
      "text/plain": [
       "   year Job Type  Zip Code   LATITUDE  LONGITUDE  date\n",
       "0  2005       A1   10001.0  40.743918 -73.987867     3\n",
       "1  2005       A1   10001.0  40.744802 -73.993302     1\n",
       "2  2005       A1   10001.0  40.744805 -73.993352     1\n",
       "3  2005       A1   10001.0  40.745060 -73.992053     1\n",
       "4  2005       A1   10001.0  40.745112 -73.994919     1"
      ]
     },
     "execution_count": 24,
     "metadata": {},
     "output_type": "execute_result"
    }
   ],
   "source": [
    "permits_count.head()"
   ]
  },
  {
   "cell_type": "code",
   "execution_count": 25,
   "metadata": {
    "collapsed": true
   },
   "outputs": [],
   "source": [
    "permits_count.rename(columns={'date': 'num_permits'}, inplace=True)"
   ]
  },
  {
   "cell_type": "code",
   "execution_count": 26,
   "metadata": {},
   "outputs": [
    {
     "data": {
      "text/html": [
       "<div>\n",
       "<table border=\"1\" class=\"dataframe\">\n",
       "  <thead>\n",
       "    <tr style=\"text-align: right;\">\n",
       "      <th></th>\n",
       "      <th>year</th>\n",
       "      <th>Job Type</th>\n",
       "      <th>Zip Code</th>\n",
       "      <th>LATITUDE</th>\n",
       "      <th>LONGITUDE</th>\n",
       "      <th>num_permits</th>\n",
       "    </tr>\n",
       "  </thead>\n",
       "  <tbody>\n",
       "    <tr>\n",
       "      <th>0</th>\n",
       "      <td>2005</td>\n",
       "      <td>A1</td>\n",
       "      <td>10001.0</td>\n",
       "      <td>40.743918</td>\n",
       "      <td>-73.987867</td>\n",
       "      <td>3</td>\n",
       "    </tr>\n",
       "    <tr>\n",
       "      <th>1</th>\n",
       "      <td>2005</td>\n",
       "      <td>A1</td>\n",
       "      <td>10001.0</td>\n",
       "      <td>40.744802</td>\n",
       "      <td>-73.993302</td>\n",
       "      <td>1</td>\n",
       "    </tr>\n",
       "    <tr>\n",
       "      <th>2</th>\n",
       "      <td>2005</td>\n",
       "      <td>A1</td>\n",
       "      <td>10001.0</td>\n",
       "      <td>40.744805</td>\n",
       "      <td>-73.993352</td>\n",
       "      <td>1</td>\n",
       "    </tr>\n",
       "    <tr>\n",
       "      <th>3</th>\n",
       "      <td>2005</td>\n",
       "      <td>A1</td>\n",
       "      <td>10001.0</td>\n",
       "      <td>40.745060</td>\n",
       "      <td>-73.992053</td>\n",
       "      <td>1</td>\n",
       "    </tr>\n",
       "    <tr>\n",
       "      <th>4</th>\n",
       "      <td>2005</td>\n",
       "      <td>A1</td>\n",
       "      <td>10001.0</td>\n",
       "      <td>40.745112</td>\n",
       "      <td>-73.994919</td>\n",
       "      <td>1</td>\n",
       "    </tr>\n",
       "  </tbody>\n",
       "</table>\n",
       "</div>"
      ],
      "text/plain": [
       "   year Job Type  Zip Code   LATITUDE  LONGITUDE  num_permits\n",
       "0  2005       A1   10001.0  40.743918 -73.987867            3\n",
       "1  2005       A1   10001.0  40.744802 -73.993302            1\n",
       "2  2005       A1   10001.0  40.744805 -73.993352            1\n",
       "3  2005       A1   10001.0  40.745060 -73.992053            1\n",
       "4  2005       A1   10001.0  40.745112 -73.994919            1"
      ]
     },
     "execution_count": 26,
     "metadata": {},
     "output_type": "execute_result"
    }
   ],
   "source": [
    "permits_count.head()"
   ]
  },
  {
   "cell_type": "code",
   "execution_count": 27,
   "metadata": {
    "collapsed": true
   },
   "outputs": [],
   "source": [
    "permits_count.rename(columns={'Job Type': 'job_type', 'Zip Code': 'zipcode'}, inplace=True)"
   ]
  },
  {
   "cell_type": "code",
   "execution_count": 28,
   "metadata": {
    "collapsed": true
   },
   "outputs": [],
   "source": [
    "# 2017 not included since not full annual data\n",
    "permits2005 = permits_count[permits_count.year == 2005]\n",
    "permits2006 = permits_count[permits_count.year == 2006]\n",
    "permits2007 = permits_count[permits_count.year == 2007]\n",
    "permits2008 = permits_count[permits_count.year == 2008]\n",
    "permits2009 = permits_count[permits_count.year == 2009]\n",
    "permits2010 = permits_count[permits_count.year == 2010]\n",
    "permits2011 = permits_count[permits_count.year == 2011]\n",
    "permits2012 = permits_count[permits_count.year == 2012]\n",
    "permits2013 = permits_count[permits_count.year == 2013]\n",
    "permits2014 = permits_count[permits_count.year == 2014]\n",
    "permits2015 = permits_count[permits_count.year == 2015]\n",
    "permits2016 = permits_count[permits_count.year == 2016]\n",
    "permits2017 = permits_count[permits_count.year == 2017]"
   ]
  },
  {
   "cell_type": "code",
   "execution_count": 29,
   "metadata": {
    "collapsed": true
   },
   "outputs": [],
   "source": [
    "permits2005.to_csv(\"permits2005.csv\")\n",
    "permits2006.to_csv(\"permits2006.csv\")\n",
    "permits2007.to_csv(\"permits2007.csv\")\n",
    "permits2008.to_csv(\"permits2008.csv\")\n",
    "permits2009.to_csv(\"permits2009.csv\")\n",
    "permits2010.to_csv(\"permits2010.csv\")\n",
    "permits2011.to_csv(\"permits2011.csv\")\n",
    "permits2012.to_csv(\"permits2012.csv\")\n",
    "permits2013.to_csv(\"permits2013.csv\")\n",
    "permits2014.to_csv(\"permits2014.csv\")\n",
    "permits2015.to_csv(\"permits2015.csv\")\n",
    "permits2016.to_csv(\"permits2016.csv\")\n",
    "permits2017.to_csv(\"permits2017.csv\")"
   ]
  },
  {
   "cell_type": "code",
   "execution_count": null,
   "metadata": {
    "collapsed": true
   },
   "outputs": [],
   "source": []
  }
 ],
 "metadata": {
  "anaconda-cloud": {},
  "kernelspec": {
   "display_name": "Python [python3]",
   "language": "python",
   "name": "Python [python3]"
  },
  "language_info": {
   "codemirror_mode": {
    "name": "ipython",
    "version": 3
   },
   "file_extension": ".py",
   "mimetype": "text/x-python",
   "name": "python",
   "nbconvert_exporter": "python",
   "pygments_lexer": "ipython3",
   "version": "3.5.2"
  }
 },
 "nbformat": 4,
 "nbformat_minor": 2
}
